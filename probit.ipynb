{
 "cells": [
  {
   "cell_type": "code",
   "execution_count": 1,
   "metadata": {
    "collapsed": true
   },
   "outputs": [],
   "source": [
    "import scripts.regressors as reg\n",
    "import scripts.proj1_helpers as helper\n",
    "import scripts.supportFunctions as sp\n",
    "import numpy as np\n",
    "\n",
    "from scripts.regressors import *\n",
    "from scripts.proj1_helpers import *\n",
    "from scripts.supportFunctions import *\n",
    "import numpy as np"
   ]
  },
  {
   "cell_type": "code",
   "execution_count": 2,
   "metadata": {},
   "outputs": [
    {
     "name": "stdout",
     "output_type": "stream",
     "text": [
      "Started\n"
     ]
    }
   ],
   "source": [
    "#load the data\n",
    "y,tx,ids=helper.load_csv_data(\"data/train.csv\",standard=True,normal=True)\n",
    "print(\"Started\")\n",
    "degree=2\n",
    "tx=sp.build_poly(tx,degree)\n",
    "max_iters=10\n",
    "gamma=0.8\n",
    "\n"
   ]
  },
  {
   "cell_type": "code",
   "execution_count": 6,
   "metadata": {
    "collapsed": true
   },
   "outputs": [],
   "source": [
    "from scipy.stats import norm\n",
    "import numpy as np \n",
    "\n",
    "# probit_log_likelihood: Function that gives the log-likelihood of x_i'w\n",
    "# Output\n",
    "#   probit_log_likelihood: vector of cdf of x_i'w which is equivalent to P(y_i=1)    \n",
    "# Inputs \n",
    "#   y= dependent variable \n",
    "#   x= design matrix\n",
    "#   w= weights \n",
    "def probit_log_likelihood(y,x,w):\n",
    "    z=np.dot(x,w)\n",
    "    p_pdf=norm.pdf(z,loc=0,scale=1)\n",
    "    p_cdf=norm.cdf(z,loc=0,scale=1)\n",
    "    probit_log_likelihood=np.dot(np.transpose(y),p_cdf)+np.dot(np.transpose(y-np.ones((len(y)))),np.ones((len(y)))-p_cdf)\n",
    "    return probit_log_likelihood\n",
    "\n",
    "\n",
    "# probit_gradient: Function that gives the gradient of the probit regression\n",
    "# Output\n",
    "#   log_grad: gradient of the probit regression. \n",
    "# Inputs \n",
    "#   y= dependent variable \n",
    "#   x= design matrix\n",
    "#   w= weights \t\n",
    "\n",
    "\n",
    "def probit_gradient(y,x,w):\n",
    "    x1=x\n",
    "    x1=np.diag(np.asmatrix(np.reshape(x1,x.shape[0]*x.shape[1],0)))\n",
    "    aux=np.kron(np.ones((x.shape[1])),np.eye(x.shape[0]))\n",
    "    x1=np.dot(x1,au)\n",
    "    xx=np.dot(x1,np.transpose(x1))\n",
    "    wk=np.kron(np.ones(len(y)),w)\n",
    "    xxw=np.diag(np.asmatrix(np.dot(xx,wk)))\n",
    "    xy=np.dot(x1,np.kron(y,np.ones(x.shape[1])))\n",
    "    sigma_prime=-xy+xxw\n",
    "    y_1=np.dot(np.transpose(y*pdf**2/cdf),sigma_prime)\n",
    "    print('y_1',y_1.shape)\n",
    "    y_0=np.dot(np.transpose(y*pdf**2/(np.ones(len(y))-cdf)),sigma_prime)\n",
    "    print('y_0',y_0.shape)\n",
    "    probit_grad=y_1+y_0\n",
    "    return probit_grad\n",
    "\n",
    "\n",
    "def probit_gradient(y,x,w):\n",
    "    for i in range(x.shape[0])\n",
    "        x()\n",
    "    \n",
    "    return probit_grad\n",
    "\n"
   ]
  },
  {
   "cell_type": "code",
   "execution_count": 7,
   "metadata": {},
   "outputs": [
    {
     "name": "stdout",
     "output_type": "stream",
     "text": [
      "(90,)\n"
     ]
    }
   ],
   "source": [
    "\n",
    "x=tx\n",
    "w_initial='zeros'\n",
    "max_iters=1\n",
    "\n",
    "if w_initial=='zeros': \n",
    "    w_initial=np.zeros(x.shape[1])\n",
    "elif w_initial=='ones':    \n",
    "    w_initial=np.ones(x.shape[1])\n",
    "else: \n",
    "    w_initial=np.random.rand(x.shape[1])\n",
    "w = w_initial\n",
    "print(w.shape)\n",
    "\n",
    "type='probit'\n",
    "\n"
   ]
  },
  {
   "cell_type": "code",
   "execution_count": null,
   "metadata": {
    "collapsed": true
   },
   "outputs": [],
   "source": [
    "grad=probit_gradient(y,x,w)"
   ]
  },
  {
   "cell_type": "code",
   "execution_count": null,
   "metadata": {
    "collapsed": true
   },
   "outputs": [],
   "source": [
    "\n",
    "\n",
    "\n",
    "if type=='logistic':\n",
    "    for n_iter in range(max_iters):\n",
    "        loss_log=-logistic_log_likelihood(y,x,w)\n",
    "        grad=logistic_gradient(y,x,w)\n",
    "        w_1=w-gamma*grad+np.random.normal(0,100,x.shape[1])\n",
    "        loss_log1=-logistic_log_likelihood(y,x,w_1)\n",
    "        if loss_log1<loss_log:\n",
    "            w=w_1\n",
    "        else :\n",
    "            w=w\n",
    "        \n",
    "        #raise NotImplementedError\n",
    "        print(\"Logistic Regression{bi}/{ti}): loss={l}\".format(\n",
    "             bi=n_iter, ti=max_iters - 1,l=loss_log))\n",
    "else: \n",
    "    for n_iter in range(max_iters):\n",
    "        print(n_iter)\n",
    "        print('w shape',w.shape)\n",
    "        loss_prob=-probit_log_likelihood(y,x,w)\n",
    "        grad=probit_gradient(y,x,w)\n",
    "        print('grad',grad.shape)\n",
    "        w_1=w-gamma*grad+np.random.normal(0,100,x.shape[1])\n",
    "        print('w1 shape',w_1.shape)\n",
    "        loss_prob1=-probit_log_likelihood(y,x,w_1)\n",
    "        if loss_prob1<loss_prob:\n",
    "            w=w_1\n",
    "        else :\n",
    "            w=w\n",
    "       \n",
    "        print(\"Probit Regression{bi}/{ti}): loss={l}\".format(\n",
    "             bi=n_iter, ti=max_iters - 1,l=loss_prob))\n",
    "    \n",
    "\n",
    "    "
   ]
  },
  {
   "cell_type": "code",
   "execution_count": null,
   "metadata": {
    "collapsed": true
   },
   "outputs": [],
   "source": []
  },
  {
   "cell_type": "code",
   "execution_count": null,
   "metadata": {
    "collapsed": true
   },
   "outputs": [],
   "source": []
  }
 ],
 "metadata": {
  "kernelspec": {
   "display_name": "Python 3",
   "language": "python",
   "name": "python3"
  },
  "language_info": {
   "codemirror_mode": {
    "name": "ipython",
    "version": 3
   },
   "file_extension": ".py",
   "mimetype": "text/x-python",
   "name": "python",
   "nbconvert_exporter": "python",
   "pygments_lexer": "ipython3",
   "version": "3.6.2"
  }
 },
 "nbformat": 4,
 "nbformat_minor": 2
}
