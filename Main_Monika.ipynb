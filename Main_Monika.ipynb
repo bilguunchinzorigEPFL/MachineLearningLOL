{
 "cells": [
  {
   "cell_type": "code",
   "execution_count": 1,
   "metadata": {
    "collapsed": true
   },
   "outputs": [],
   "source": [
    "import scripts.regressors as reg\n",
    "import scripts.proj1_helpers as helper\n",
    "import scripts.supportFunctions as sp\n",
    "import numpy as np\n"
   ]
  },
  {
   "cell_type": "code",
   "execution_count": null,
   "metadata": {},
   "outputs": [],
   "source": [
    "#load the data\n",
    "y,tx,ids=helper.load_csv_data(\"data/train.csv\",standard=True,normal=True)\n",
    "print(\"Started\")\n",
    "degree=2\n",
    "#tx=sp.build_poly(tx,degree)\n",
    "max_iters=10\n",
    "gamma=0.8\n",
    "w_initial=np.zeros((tx.shape[1]))\n",
    "weights=reg.logistic_regression2(y,tx,max_iters,gamma,w_initial)\n"
   ]
  },
  {
   "cell_type": "code",
   "execution_count": 14,
   "metadata": {},
   "outputs": [
    {
     "name": "stdout",
     "output_type": "stream",
     "text": [
      "(array([  17.0436664 ,  -68.63845302,   -9.37113757,   40.28776387,\n",
      "         92.94885692,   24.55164165,   15.21392993, -120.48165422,\n",
      "        -32.45028664,  107.66543787,   46.30979244, -193.59823048,\n",
      "       -188.48497174,   54.17687637,  -79.17689097, -102.12906319,\n",
      "        202.13144199,   95.52584548,  254.98878624, -131.08227728,\n",
      "        -11.39886653,  -66.49189289,  105.89412603,  119.99193255,\n",
      "        154.46498648,   75.29060613, -230.06450429, -148.14330207,\n",
      "       -133.46113238,  -34.85389917]), [[125000.0], [125000.0], [164333.0], [164333.0], [164334.0], [164334.0], [164334.0], [164334.0], [164334.0], [164334.0]])\n"
     ]
    },
    {
     "ename": "ValueError",
     "evalue": "setting an array element with a sequence.",
     "output_type": "error",
     "traceback": [
      "\u001b[0;31m---------------------------------------------------------------------------\u001b[0m",
      "\u001b[0;31mValueError\u001b[0m                                Traceback (most recent call last)",
      "\u001b[0;32m<ipython-input-14-f2a966191664>\u001b[0m in \u001b[0;36m<module>\u001b[0;34m()\u001b[0m\n\u001b[1;32m      1\u001b[0m \u001b[0mprint\u001b[0m\u001b[0;34m(\u001b[0m\u001b[0mweights\u001b[0m\u001b[0;34m)\u001b[0m\u001b[0;34m\u001b[0m\u001b[0m\n\u001b[0;32m----> 2\u001b[0;31m \u001b[0mx\u001b[0m\u001b[0;34m=\u001b[0m\u001b[0mnp\u001b[0m\u001b[0;34m.\u001b[0m\u001b[0mdot\u001b[0m\u001b[0;34m(\u001b[0m\u001b[0mtx\u001b[0m\u001b[0;34m,\u001b[0m\u001b[0mweights\u001b[0m\u001b[0;34m)\u001b[0m\u001b[0;34m\u001b[0m\u001b[0m\n\u001b[0m\u001b[1;32m      3\u001b[0m \u001b[0my_pred\u001b[0m\u001b[0;34m=\u001b[0m\u001b[0;36m1\u001b[0m\u001b[0;34m/\u001b[0m\u001b[0;34m(\u001b[0m\u001b[0;36m1\u001b[0m\u001b[0;34m+\u001b[0m\u001b[0mnp\u001b[0m\u001b[0;34m.\u001b[0m\u001b[0mexp\u001b[0m\u001b[0;34m(\u001b[0m\u001b[0;34m-\u001b[0m\u001b[0mx\u001b[0m\u001b[0;34m)\u001b[0m\u001b[0;34m)\u001b[0m\u001b[0;34m\u001b[0m\u001b[0m\n",
      "\u001b[0;31mValueError\u001b[0m: setting an array element with a sequence."
     ]
    }
   ],
   "source": [
    "print(weights)\n",
    "x=np.dot(tx,weights)\n",
    "y_pred=1/(1+np.exp(-x))\n"
   ]
  },
  {
   "cell_type": "code",
   "execution_count": null,
   "metadata": {
    "collapsed": true
   },
   "outputs": [],
   "source": [
    "y,tx,ids=helper.load_csv_data(\"../test.csv\",standard=True,normal=True)\n",
    "y_pred=helper.predict_labels(weights, tx, threshold=0.5,islogistic=True)\n",
    "name=\"logistic_monika\"\n",
    "helper.create_csv_submission(ids, y_pred, name)"
   ]
  },
  {
   "cell_type": "code",
   "execution_count": null,
   "metadata": {
    "collapsed": true
   },
   "outputs": [],
   "source": []
  }
 ],
 "metadata": {
  "kernelspec": {
   "display_name": "Python 3",
   "language": "python",
   "name": "python3"
  },
  "language_info": {
   "codemirror_mode": {
    "name": "ipython",
    "version": 3
   },
   "file_extension": ".py",
   "mimetype": "text/x-python",
   "name": "python",
   "nbconvert_exporter": "python",
   "pygments_lexer": "ipython3",
   "version": "3.6.2"
  }
 },
 "nbformat": 4,
 "nbformat_minor": 2
}
