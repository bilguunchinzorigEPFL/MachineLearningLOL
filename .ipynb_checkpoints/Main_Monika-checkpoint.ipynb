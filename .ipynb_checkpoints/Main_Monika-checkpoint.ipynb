{
 "cells": [
  {
   "cell_type": "code",
   "execution_count": 1,
   "metadata": {
    "collapsed": true
   },
   "outputs": [],
   "source": [
    "import scripts.regressors as reg\n",
    "import scripts.proj1_helpers as helper\n",
    "import scripts.supportFunctions as sp\n",
    "import numpy as np\n"
   ]
  },
  {
   "cell_type": "code",
   "execution_count": 9,
   "metadata": {},
   "outputs": [
    {
     "name": "stdout",
     "output_type": "stream",
     "text": [
      "Started\n",
      "Gradient Descent(0/9): like=125000.0\n",
      "Gradient Descent(1/9): like=125000.0\n",
      "Gradient Descent(2/9): like=164333.0\n",
      "Gradient Descent(3/9): like=164333.0\n",
      "Gradient Descent(4/9): like=164334.0\n",
      "Gradient Descent(5/9): like=164334.0\n"
     ]
    },
    {
     "name": "stderr",
     "output_type": "stream",
     "text": [
      "/Users/moka/Dropbox/1.PHD/2.COURSESTAKEN/MACHINELEARNING/Project1/MachineLearningLOL/scripts/supportFunctions.py:81: RuntimeWarning: overflow encountered in exp\n",
      "  logistic_pdf=np.exp(np.dot(tx,w))/(np.ones((len(y)))+np.exp(np.dot(tx,w)))\n",
      "/Users/moka/Dropbox/1.PHD/2.COURSESTAKEN/MACHINELEARNING/Project1/MachineLearningLOL/scripts/supportFunctions.py:81: RuntimeWarning: invalid value encountered in true_divide\n",
      "  logistic_pdf=np.exp(np.dot(tx,w))/(np.ones((len(y)))+np.exp(np.dot(tx,w)))\n"
     ]
    },
    {
     "name": "stdout",
     "output_type": "stream",
     "text": [
      "Gradient Descent(6/9): like=164334.0\n",
      "Gradient Descent(7/9): like=164334.0\n",
      "Gradient Descent(8/9): like=164334.0\n",
      "Gradient Descent(9/9): like=164334.0\n"
     ]
    }
   ],
   "source": [
    "#load the data\n",
    "y,tx,ids=helper.load_csv_data(\"data/train.csv\",standard=True,normal=True)\n",
    "print(\"Started\")\n",
    "degree=2\n",
    "#tx=sp.build_poly(tx,degree)\n",
    "max_iters=10\n",
    "gamma=0.8\n",
    "w_initial=np.zeros((tx.shape[1]))\n",
    "weights=reg.logistic_regression2(y,tx,max_iters,gamma,w_initial)\n"
   ]
  },
  {
   "cell_type": "code",
   "execution_count": null,
   "metadata": {},
   "outputs": [],
   "source": [
    "y_pred=helper.predict_labels(weights, tx, threshold=0.5,islogistic=True)\n"
   ]
  },
  {
   "cell_type": "code",
   "execution_count": null,
   "metadata": {
    "collapsed": true
   },
   "outputs": [],
   "source": [
    "y,tx,ids=helper.load_csv_data(\"../test.csv\",standard=True,normal=True)\n",
    "y_pred=helper.predict_labels(weights, tx, threshold=0.5,islogistic=True)\n",
    "name=\"logistic_monika\"\n",
    "helper.create_csv_submission(ids, y_pred, name)"
   ]
  }
 ],
 "metadata": {
  "kernelspec": {
   "display_name": "Python 3",
   "language": "python",
   "name": "python3"
  },
  "language_info": {
   "codemirror_mode": {
    "name": "ipython",
    "version": 3
   },
   "file_extension": ".py",
   "mimetype": "text/x-python",
   "name": "python",
   "nbconvert_exporter": "python",
   "pygments_lexer": "ipython3",
   "version": "3.6.2"
  }
 },
 "nbformat": 4,
 "nbformat_minor": 2
}
