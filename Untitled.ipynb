{
 "cells": [
  {
   "cell_type": "code",
   "execution_count": 1,
   "metadata": {
    "collapsed": true
   },
   "outputs": [],
   "source": [
    "import scripts.regressors as reg\n",
    "import scripts.proj1_helpers as helper\n",
    "import scripts.supportFunctions as sp\n",
    "import numpy as np\n",
    "#load the data\n",
    "y,tx,ids=helper.load_csv_data(\"data/train.csv\",standard=True,normal=True)\n"
   ]
  },
  {
   "cell_type": "code",
   "execution_count": 4,
   "metadata": {
    "collapsed": true
   },
   "outputs": [],
   "source": [
    "def logistic_regression2(y,tx,max_iters,gamma,w_initial):\n",
    "    w=[w_initial]\n",
    "    log_likelihood=[]\n",
    "    w = w_initial\n",
    "    for n_iter in range(max_iters):\n",
    "        log_like=logistic_log_likelihood(y,tx,w)\n",
    "        grad=logistic_gradient(y,tx,w)\n",
    "        w_1=w+gamma*grad+np.random.normal(0,100,tx.shape[1])\n",
    "        log_like_1=logistic_log_likelihood(y,tx,w_1)\n",
    "        if log_like_1>log_like:\n",
    "            w=w_1\n",
    "        else :\n",
    "            w=w\n",
    "        log_likelihood.append([log_like])\n",
    "        #raise NotImplementedError\n",
    "        print(\"Gradient Descent({bi}/{ti}): like={l}\".format(\n",
    "             bi=n_iter, ti=max_iters - 1,l=log_like))\n",
    "    return  w, log_likelihood\n",
    " "
   ]
  },
  {
   "cell_type": "code",
   "execution_count": null,
   "metadata": {},
   "outputs": [],
   "source": [
    "print(\"Started\")\n",
    "degree=2\n",
    "tx=sp.build_poly(tx,degree)\n",
    "print(tx.shape)\n",
    "max_iters=2\n",
    "gamma=0.8\n",
    "w_initial=np.zeros((tx.shape[1]))\n"
   ]
  },
  {
   "cell_type": "code",
   "execution_count": null,
   "metadata": {
    "collapsed": true
   },
   "outputs": [],
   "source": []
  }
 ],
 "metadata": {
  "kernelspec": {
   "display_name": "Python 3",
   "language": "python",
   "name": "python3"
  },
  "language_info": {
   "codemirror_mode": {
    "name": "ipython",
    "version": 3
   },
   "file_extension": ".py",
   "mimetype": "text/x-python",
   "name": "python",
   "nbconvert_exporter": "python",
   "pygments_lexer": "ipython3",
   "version": "3.6.2"
  }
 },
 "nbformat": 4,
 "nbformat_minor": 2
}
