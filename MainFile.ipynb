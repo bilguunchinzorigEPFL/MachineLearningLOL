{
 "cells": [
  {
   "cell_type": "code",
   "execution_count": 45,
   "metadata": {},
   "outputs": [
    {
     "name": "stdout",
     "output_type": "stream",
     "text": [
      "The autoreload extension is already loaded. To reload it, use:\n",
      "  %reload_ext autoreload\n"
     ]
    }
   ],
   "source": [
    "%matplotlib inline\n",
    "import numpy as np\n",
    "import matplotlib.pyplot as plt\n",
    "%load_ext autoreload\n",
    "%autoreload 2\n"
   ]
  },
  {
   "cell_type": "code",
   "execution_count": 46,
   "metadata": {},
   "outputs": [],
   "source": [
    "import scripts.regressors as reg\n",
    "import scripts.proj1_helpers as helper\n",
    "import scripts.supportFunctions as sp\n",
    "#load the data\n",
    "y,tx,ids=helper.load_csv_data(\"data/train.csv\",standard=True)\n"
   ]
  },
  {
   "cell_type": "code",
   "execution_count": null,
   "metadata": {},
   "outputs": [
    {
     "name": "stdout",
     "output_type": "stream",
     "text": [
      "Gradient Descent(0/99): like=100000.0\n",
      "Gradient Descent(1/99): like=133011.43391541054\n",
      "Gradient Descent(2/99): like=80591.46726921578\n",
      "Gradient Descent(3/99): like=130318.5580266317\n",
      "Gradient Descent(4/99): like=139983.2190615166\n",
      "Gradient Descent(5/99): like=144704.6189802397\n",
      "Gradient Descent(6/99): like=99725.84069894753\n",
      "Gradient Descent(7/99): like=128072.04536072948\n"
     ]
    },
    {
     "name": "stderr",
     "output_type": "stream",
     "text": [
      "/Users/moka/Dropbox/1.PHD/2.COURSESTAKEN/MACHINELEARNING/Project1/MachineLearningLOL/scripts/supportFunctions.py:73: RuntimeWarning: overflow encountered in exp\n",
      "  logistic_pdf=np.ones((len(y)))/(np.ones((len(y)))+np.exp(-np.dot(tx,w)))\n"
     ]
    },
    {
     "name": "stdout",
     "output_type": "stream",
     "text": [
      "Gradient Descent(8/99): like=142187.29576930992\n",
      "Gradient Descent(9/99): like=109007.14277737006\n",
      "Gradient Descent(10/99): like=127355.96244870077\n",
      "Gradient Descent(11/99): like=136723.49198555766\n",
      "Gradient Descent(12/99): like=130078.05292506702\n",
      "Gradient Descent(13/99): like=79131.50535533972\n",
      "Gradient Descent(14/99): like=131470.8125142718\n",
      "Gradient Descent(15/99): like=138149.34511284242\n",
      "Gradient Descent(16/99): like=143336.4308059031\n",
      "Gradient Descent(17/99): like=86377.81132258862\n",
      "Gradient Descent(18/99): like=129925.14886545822\n",
      "Gradient Descent(19/99): like=144560.95870560358\n",
      "Gradient Descent(20/99): like=126622.14841423894\n",
      "Gradient Descent(21/99): like=130884.47315603006\n",
      "Gradient Descent(22/99): like=88117.69758672331\n",
      "Gradient Descent(23/99): like=130862.39443065197\n",
      "Gradient Descent(24/99): like=144706.28529717535\n",
      "Gradient Descent(25/99): like=135159.5998960507\n",
      "Gradient Descent(26/99): like=134493.1550614884\n",
      "Gradient Descent(27/99): like=83489.74324849967\n",
      "Gradient Descent(28/99): like=131707.93914022815\n",
      "Gradient Descent(29/99): like=143037.20983300143\n",
      "Gradient Descent(30/99): like=146811.5472025139\n",
      "Gradient Descent(31/99): like=125541.17720643722\n",
      "Gradient Descent(32/99): like=130781.65203215167\n",
      "Gradient Descent(33/99): like=86739.72853897739\n",
      "Gradient Descent(34/99): like=131022.60851797785\n",
      "Gradient Descent(35/99): like=144718.1676754982\n",
      "Gradient Descent(36/99): like=137820.23701329983\n",
      "Gradient Descent(37/99): like=136381.99028780783\n",
      "Gradient Descent(38/99): like=83275.47036593937\n",
      "Gradient Descent(39/99): like=131672.58207825432\n",
      "Gradient Descent(40/99): like=142750.985905252\n",
      "Gradient Descent(41/99): like=147599.31745467358\n",
      "Gradient Descent(42/99): like=112821.31323132824\n",
      "Gradient Descent(43/99): like=129845.23437844371\n",
      "Gradient Descent(44/99): like=120640.02693744728\n",
      "Gradient Descent(45/99): like=131476.05771279783\n",
      "Gradient Descent(46/99): like=101661.40981982421\n",
      "Gradient Descent(47/99): like=131238.00314753776\n",
      "Gradient Descent(48/99): like=140391.16168489718\n",
      "Gradient Descent(49/99): like=145539.57280084776\n",
      "Gradient Descent(50/99): like=90061.12335191111\n",
      "Gradient Descent(51/99): like=130101.60232179918\n",
      "Gradient Descent(52/99): like=145549.663666965\n",
      "Gradient Descent(53/99): like=133608.942780117\n",
      "Gradient Descent(54/99): like=133463.09612841843\n",
      "Gradient Descent(55/99): like=85102.33969673234\n",
      "Gradient Descent(56/99): like=131829.38189348177\n",
      "Gradient Descent(57/99): like=143558.2537664866\n",
      "Gradient Descent(58/99): like=147328.77159864033\n",
      "Gradient Descent(59/99): like=126408.49017993532\n",
      "Gradient Descent(60/99): like=131272.91503810202\n",
      "Gradient Descent(61/99): like=88344.80042907859\n",
      "Gradient Descent(62/99): like=131329.54160500105\n",
      "Gradient Descent(63/99): like=144646.91743153462\n",
      "Gradient Descent(64/99): like=144212.85031127505\n",
      "Gradient Descent(65/99): like=145838.21071006203\n",
      "Gradient Descent(66/99): like=89112.04891276272\n",
      "Gradient Descent(67/99): like=129441.6491522848\n",
      "Gradient Descent(68/99): like=145508.54681319586\n",
      "Gradient Descent(69/99): like=124406.52886447402\n",
      "Gradient Descent(70/99): like=130867.52247466895\n",
      "Gradient Descent(71/99): like=95159.14337368323\n",
      "Gradient Descent(72/99): like=131163.35548042622\n",
      "Gradient Descent(73/99): like=143796.83881143073\n",
      "Gradient Descent(74/99): like=147531.82916664556\n",
      "Gradient Descent(75/99): like=122298.29522430984\n",
      "Gradient Descent(76/99): like=130535.54715602951\n",
      "Gradient Descent(77/99): like=92254.28816592981\n",
      "Gradient Descent(78/99): like=130955.67868269289\n",
      "Gradient Descent(79/99): like=144674.85179318005\n",
      "Gradient Descent(80/99): like=144341.273009978\n",
      "Gradient Descent(81/99): like=144691.088900779\n",
      "Gradient Descent(82/99): like=87781.90449317484\n",
      "Gradient Descent(83/99): like=129533.98811868497\n",
      "Gradient Descent(84/99): like=145409.72562471929\n",
      "Gradient Descent(85/99): like=125946.89163997395\n",
      "Gradient Descent(86/99): like=130963.82360348529\n",
      "Gradient Descent(87/99): like=92876.27227786329\n",
      "Gradient Descent(88/99): like=131263.655184204\n",
      "Gradient Descent(89/99): like=144274.3789987652\n",
      "Gradient Descent(90/99): like=146766.6033268681\n",
      "Gradient Descent(91/99): like=134769.72345953062\n",
      "Gradient Descent(92/99): like=134531.85552616912\n",
      "Gradient Descent(93/99): like=82360.69937612287\n",
      "Gradient Descent(94/99): like=131694.32991482032\n",
      "Gradient Descent(95/99): like=141720.0929938577\n",
      "Gradient Descent(96/99): like=147619.97129284285\n",
      "Gradient Descent(97/99): like=100770.06051103918\n",
      "Gradient Descent(98/99): like=129825.09639307043\n",
      "Gradient Descent(99/99): like=142635.94600057343\n",
      "[[100000.0], [133011.43391541054], [80591.467269215776], [130318.5580266317], [139983.2190615166], [144704.6189802397], [99725.840698947533], [128072.04536072948], [142187.29576930992], [109007.14277737006], [127355.96244870077], [136723.49198555766], [130078.05292506702], [79131.505355339716], [131470.81251427179], [138149.34511284242], [143336.4308059031], [86377.811322588619], [129925.14886545822], [144560.95870560358], [126622.14841423894], [130884.47315603006], [88117.697586723312], [130862.39443065197], [144706.28529717535], [135159.5998960507], [134493.15506148839], [83489.743248499668], [131707.93914022815], [143037.20983300143], [146811.5472025139], [125541.17720643722], [130781.65203215167], [86739.72853897739], [131022.60851797785], [144718.1676754982], [137820.23701329983], [136381.99028780783], [83275.470365939371], [131672.58207825432], [142750.98590525199], [147599.31745467358], [112821.31323132824], [129845.23437844371], [120640.02693744728], [131476.05771279783], [101661.40981982421], [131238.00314753776], [140391.16168489718], [145539.57280084776], [90061.123351911112], [130101.60232179918], [145549.663666965], [133608.94278011701], [133463.09612841843], [85102.339696732335], [131829.38189348177], [143558.2537664866], [147328.77159864033], [126408.49017993532], [131272.91503810202], [88344.80042907859], [131329.54160500105], [144646.91743153462], [144212.85031127505], [145838.21071006203], [89112.048912762722], [129441.64915228479], [145508.54681319586], [124406.52886447402], [130867.52247466895], [95159.143373683226], [131163.35548042622], [143796.83881143073], [147531.82916664556], [122298.29522430984], [130535.54715602951], [92254.288165929815], [130955.67868269289], [144674.85179318005], [144341.273009978], [144691.088900779], [87781.904493174836], [129533.98811868497], [145409.72562471929], [125946.89163997395], [130963.82360348529], [92876.272277863289], [131263.65518420399], [144274.3789987652], [146766.60332686809], [134769.72345953062], [134531.85552616912], [82360.699376122866], [131694.32991482032], [141720.09299385769], [147619.97129284285], [100770.06051103918], [129825.09639307043], [142635.94600057343]] 8211.80477624\n"
     ]
    }
   ],
   "source": [
    "tr_idx,te_idx=helper.split_data(y,0.8)\n",
    "# Train the regressor\n",
    "# 1. Least squares \n",
    "#w,tr_loss=reg.least_squares(y[tr_idx],tx[tr_idx])\n",
    "# 2. Logistic regression\n",
    "max_iters=100\n",
    "gamma=0.0006\n",
    "w_initial = np.zeros((30))\n",
    "w,tr_loss=reg.logistic_regression(y[tr_idx],tx[tr_idx],max_iters,gamma,w_initial)\n",
    "#evaluate the result\n",
    "te_loss=sp.loss_mse(y[te_idx],tx[te_idx],w)\n",
    "print(tr_loss,te_loss)\n",
    "\n",
    "#saving the test\n",
    "helper.submit(\"logistic\",\"../test.csv\",w,standard=True,threshold=0.5,islogistic=False)\n"
   ]
  },
  {
   "cell_type": "code",
   "execution_count": null,
   "metadata": {
    "collapsed": true
   },
   "outputs": [],
   "source": []
  },
  {
   "cell_type": "code",
   "execution_count": null,
   "metadata": {
    "collapsed": true
   },
   "outputs": [],
   "source": []
  }
 ],
 "metadata": {
  "kernelspec": {
   "display_name": "Python 3",
   "language": "python",
   "name": "python3"
  },
  "language_info": {
   "codemirror_mode": {
    "name": "ipython",
    "version": 3
   },
   "file_extension": ".py",
   "mimetype": "text/x-python",
   "name": "python",
   "nbconvert_exporter": "python",
   "pygments_lexer": "ipython3",
   "version": "3.6.2"
  }
 },
 "nbformat": 4,
 "nbformat_minor": 2
}
