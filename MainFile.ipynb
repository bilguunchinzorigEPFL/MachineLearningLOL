{
 "cells": [
  {
   "cell_type": "code",
   "execution_count": 45,
   "metadata": {},
   "outputs": [
    {
     "name": "stdout",
     "output_type": "stream",
     "text": [
      "The autoreload extension is already loaded. To reload it, use:\n",
      "  %reload_ext autoreload\n"
     ]
    }
   ],
   "source": [
    "%matplotlib inline\n",
    "import numpy as np\n",
    "import matplotlib.pyplot as plt\n",
    "%load_ext autoreload\n",
    "%autoreload 2\n"
   ]
  },
  {
   "cell_type": "code",
   "execution_count": 1,
   "metadata": {},
   "outputs": [],
   "source": [
    "import scripts.regressors as reg\n",
    "import scripts.proj1_helpers as helper\n",
    "import scripts.supportFunctions as sp\n",
    "import pandas as pd\n",
    "#load the data\n",
    "y,tx,ids=helper.load_csv_data(\"data/train.csv\",standard=True)\n"
   ]
  },
  {
   "cell_type": "code",
   "execution_count": 8,
   "metadata": {},
   "outputs": [],
   "source": [
    "data=pd.DataFrame(data=tx)\n",
    "correlation=data.corr()"
   ]
  },
  {
   "cell_type": "code",
   "execution_count": 13,
   "metadata": {},
   "outputs": [
    {
     "data": {
      "text/plain": [
       "0    -0.171892\n",
       "1    -0.419757\n",
       "2    -0.090846\n",
       "3    -0.539379\n",
       "4    -0.679068\n",
       "5    -0.706110\n",
       "6    -0.706110\n",
       "7    -0.539379\n",
       "8    -0.148081\n",
       "9    -0.432603\n",
       "10   -0.474633\n",
       "11   -0.419757\n",
       "12   -0.527090\n",
       "13   -0.474633\n",
       "14   -0.003330\n",
       "15   -0.207026\n",
       "16   -0.069957\n",
       "17   -0.006777\n",
       "18   -0.222633\n",
       "19   -0.402345\n",
       "20   -0.225064\n",
       "21   -0.407002\n",
       "22   -0.347904\n",
       "23   -0.480736\n",
       "24   -0.157561\n",
       "25   -0.225064\n",
       "26   -0.318731\n",
       "27   -0.157561\n",
       "28   -0.075504\n",
       "29   -0.448737\n",
       "dtype: float64"
      ]
     },
     "execution_count": 13,
     "metadata": {},
     "output_type": "execute_result"
    }
   ],
   "source": [
    "correlation[correlation==1]=0\n",
    "correlation.min()"
   ]
  },
  {
   "cell_type": "code",
   "execution_count": 21,
   "metadata": {},
   "outputs": [
    {
     "data": {
      "text/plain": [
       "array([[ 0.12718307,  0.08060575,  0.07214969, ...,  1.27458201,\n",
       "         0.21225415,  0.07273731],\n",
       "       [ 0.14781875,  0.10730996,  0.0764141 , ...,  0.99923677,\n",
       "         0.99985389,  0.02962506],\n",
       "       [ 0.        ,  0.25306351,  0.09432812, ...,  0.99923677,\n",
       "         0.99985389,  0.02835933],\n",
       "       ..., \n",
       "       [ 0.09686102,  0.09444862,  0.05481131, ...,  0.99923677,\n",
       "         0.99985389,  0.02691159],\n",
       "       [ 0.08721138,  0.0302137 ,  0.04927025, ...,  0.99923677,\n",
       "         0.99985389,  0.        ],\n",
       "       [ 0.        ,  0.11353309,  0.05086231, ...,  0.99923677,\n",
       "         0.99985389,  0.        ]])"
      ]
     },
     "execution_count": 21,
     "metadata": {},
     "output_type": "execute_result"
    }
   ],
   "source": [
    "#normalize\n",
    "import numpy as np\n",
    "centered_data = tx - np.mean(tx, axis=0)\n",
    "std_data = centered_data / np.std(centered_data, axis=0)\n",
    "normalized=(std_data-std_data.min(axis=0))/std_data.max(axis=0)\n",
    "normalized"
   ]
  },
  {
   "cell_type": "code",
   "execution_count": 49,
   "metadata": {},
   "outputs": [],
   "source": [
    "data_path=\"data/train.csv\"\n",
    "y = np.genfromtxt(data_path, delimiter=\",\", skip_header=1, dtype=str, usecols=1)\n",
    "x = np.genfromtxt(data_path, delimiter=\",\", skip_header=1)\n",
    "ids = x[:, 0].astype(np.int)\n",
    "input_data = x[:, 2:]\n",
    "\n",
    "# convert class labels from strings to binary (1,0).We assign 1 for label \"b\" and 0 otherwise\n",
    "yb = np.zeros(len(y))\n",
    "yb[np.where(y=='b')] = 1"
   ]
  },
  {
   "cell_type": "code",
   "execution_count": 59,
   "metadata": {},
   "outputs": [
    {
     "data": {
      "text/plain": [
       "array([[  1.38470000e+02,   5.16550000e+01,   9.78270000e+01, ...,\n",
       "          1.24000000e+00,  -2.47500000e+00,   1.13497000e+02],\n",
       "       [  1.60937000e+02,   6.87680000e+01,   1.03235000e+02, ...,\n",
       "         -1.18452642e-02,  -1.58228913e-03,   4.62260000e+01],\n",
       "       [  1.21858528e+02,   1.62172000e+02,   1.25953000e+02, ...,\n",
       "         -1.18452642e-02,  -1.58228913e-03,   4.42510000e+01],\n",
       "       ..., \n",
       "       [  1.05457000e+02,   6.05260000e+01,   7.58390000e+01, ...,\n",
       "         -1.18452642e-02,  -1.58228913e-03,   4.19920000e+01],\n",
       "       [  9.49510000e+01,   1.93620000e+01,   6.88120000e+01, ...,\n",
       "         -1.18452642e-02,  -1.58228913e-03,   0.00000000e+00],\n",
       "       [  1.21858528e+02,   7.27560000e+01,   7.08310000e+01, ...,\n",
       "         -1.18452642e-02,  -1.58228913e-03,   0.00000000e+00]])"
      ]
     },
     "execution_count": 59,
     "metadata": {},
     "output_type": "execute_result"
    }
   ],
   "source": [
    "def null_replacer(data,null_val= -999):\n",
    "    x=data.copy()\n",
    "    for c in range(0,x.shape[1]):\n",
    "        total=0\n",
    "        num=0\n",
    "        nulls=[]\n",
    "        for r in range(0,x.shape[0]):\n",
    "            val=x[r,c]\n",
    "            if val!=null_val:\n",
    "                num+=1\n",
    "                total+=val\n",
    "            else: nulls.append(r)\n",
    "        x[nulls,c]=total/num\n",
    "    return x\n",
    "null_replacer(input_data)"
   ]
  },
  {
   "cell_type": "code",
   "execution_count": null,
   "metadata": {},
   "outputs": [],
   "source": []
  },
  {
   "cell_type": "code",
   "execution_count": 62,
   "metadata": {},
   "outputs": [
    {
     "data": {
      "text/plain": [
       "4974.9790000000003"
      ]
     },
     "execution_count": 62,
     "metadata": {},
     "output_type": "execute_result"
    }
   ],
   "source": [
    "np.max(input_data)"
   ]
  },
  {
   "cell_type": "code",
   "execution_count": 39,
   "metadata": {},
   "outputs": [
    {
     "data": {
      "text/plain": [
       "138.47"
      ]
     },
     "execution_count": 39,
     "metadata": {},
     "output_type": "execute_result"
    }
   ],
   "source": [
    "input_data[0,0]"
   ]
  },
  {
   "cell_type": "code",
   "execution_count": null,
   "metadata": {},
   "outputs": [],
   "source": []
  }
 ],
 "metadata": {
  "kernelspec": {
   "display_name": "Python 3",
   "language": "python",
   "name": "python3"
  },
  "language_info": {
   "codemirror_mode": {
    "name": "ipython",
    "version": 3
   },
   "file_extension": ".py",
   "mimetype": "text/x-python",
   "name": "python",
   "nbconvert_exporter": "python",
   "pygments_lexer": "ipython3",
   "version": "3.6.2"
  }
 },
 "nbformat": 4,
 "nbformat_minor": 2
}
