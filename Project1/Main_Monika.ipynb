{
 "cells": [
  {
   "cell_type": "code",
   "execution_count": 1,
   "metadata": {
    "collapsed": true
   },
   "outputs": [],
   "source": [
    "import scripts.regressors as reg\n",
    "import scripts.proj1_helpers as helper\n",
    "import scripts.supportFunctions as sp\n",
    "import numpy as np\n"
   ]
  },
  {
   "cell_type": "code",
   "execution_count": 15,
   "metadata": {},
   "outputs": [
    {
     "name": "stdout",
     "output_type": "stream",
     "text": [
      "Started\n",
      "Gradient Descent(0/9): like=125000.0\n",
      "Gradient Descent(1/9): like=125000.0\n",
      "Gradient Descent(2/9): like=125000.0\n",
      "Gradient Descent(3/9): like=125000.0\n",
      "Gradient Descent(4/9): like=125000.0\n",
      "Gradient Descent(5/9): like=125000.0\n",
      "Gradient Descent(6/9): like=164333.0\n"
     ]
    },
    {
     "name": "stderr",
     "output_type": "stream",
     "text": [
      "/Users/moka/Dropbox/1.PHD/2.COURSESTAKEN/MACHINELEARNING/Project1/MachineLearningLOL/scripts/supportFunctions.py:81: RuntimeWarning: overflow encountered in exp\n",
      "  logistic_pdf=np.exp(np.dot(tx,w))/(np.ones((len(y)))+np.exp(np.dot(tx,w)))\n",
      "/Users/moka/Dropbox/1.PHD/2.COURSESTAKEN/MACHINELEARNING/Project1/MachineLearningLOL/scripts/supportFunctions.py:81: RuntimeWarning: invalid value encountered in true_divide\n",
      "  logistic_pdf=np.exp(np.dot(tx,w))/(np.ones((len(y)))+np.exp(np.dot(tx,w)))\n"
     ]
    },
    {
     "name": "stdout",
     "output_type": "stream",
     "text": [
      "Gradient Descent(7/9): like=164333.0\n",
      "Gradient Descent(8/9): like=164334.0\n",
      "Gradient Descent(9/9): like=164334.0\n"
     ]
    }
   ],
   "source": [
    "#load the data\n",
    "y,tx,ids=helper.load_csv_data(\"data/train.csv\",standard=True,normal=True)\n",
    "print(\"Started\")\n",
    "degree=2\n",
    "#tx=sp.build_poly(tx,degree)\n",
    "max_iters=10\n",
    "gamma=0.8\n",
    "w_initial=np.zeros((tx.shape[1]))\n",
    "weights=reg.logistic_regression2(y,tx,max_iters,gamma,w_initial)\n"
   ]
  },
  {
   "cell_type": "code",
   "execution_count": null,
   "metadata": {
    "collapsed": true
   },
   "outputs": [],
   "source": []
  },
  {
   "cell_type": "code",
   "execution_count": 4,
   "metadata": {
    "collapsed": true
   },
   "outputs": [],
   "source": [
    "from scipy.stats import norm\n",
    "import numpy as np \n",
    "\n",
    "# probit_cdf: Function that gives the probability that y_i=1, i.e. y_i=b. \n",
    "# Output\n",
    "#   probit_cdf: vector of cdf of x_i'w which is equivalent to P(y_i=1)    \n",
    "# Inputs \n",
    "#   y= dependent variable \n",
    "#   x= design matrix\n",
    "#   w= weights \n",
    "def probit_cdf(y,x,w):\n",
    "    z=np.dot(x,w)\n",
    "    probit_cdf=norm.cdf(z,loc=0,scale=1)\n",
    "    return probit_cdf\n",
    "\n",
    "# probit_pdf: Function that gives the probability density function of x_i'w\n",
    "# Output\n",
    "#   probit_pdf: vector of cdf of x_i'w which is equivalent to P(y_i=1)    \n",
    "# Inputs \n",
    "#   y= dependent variable \n",
    "#   x= design matrix\n",
    "#   w= weights \n",
    "def probit_pdf(y,x,w):\n",
    "    z=np.dot(x,w)\n",
    "    probit_pdf=norm.pdf(z,loc=0,scale=1)\n",
    "    return probit_pdf\n",
    "\n",
    "# probit_log_likelihood: Function that gives the log-likelihood of x_i'w\n",
    "# Output\n",
    "#   probit_log_likelihood: vector of cdf of x_i'w which is equivalent to P(y_i=1)    \n",
    "# Inputs \n",
    "#   y= dependent variable \n",
    "#   x= design matrix\n",
    "#   w= weights \n",
    "def probit_log_likelihood(y,x,w):\n",
    "    p_cdf=probit_cdf(y,x,w)\n",
    "    probit_log_likelihood=np.dot(np.transpose(y),p_cdf)+np.dot(np.transpose(y-np.ones((len(y)))),np.ones((len(y)))-p_cdf)\n",
    "    return probit_log_likelihood\n",
    "\n",
    "\n",
    "# probit_gradient: Function that gives the gradient of the probit regression\n",
    "# Output\n",
    "#   log_grad: gradient of the probit regression. \n",
    "# Inputs \n",
    "#   y= dependent variable \n",
    "#   x= design matrix\n",
    "#   w= weights \t\n",
    "def probit_gradient(y,x,w):\n",
    "    pdf=probit_pdf(y,x,w)\n",
    "    cdf=probit_cdf(y,x,w)\n",
    "    probit_grad=np.dot((np.dot(np.transpose(y),pdf/cdf)+np.dot(np.transpose((np.ones((len(y)))-y)),pdf/(np.ones((len(y)))-cdf))),x)\n",
    "    print(probit_grad.shape)\n",
    "    #probit_grad=np.dot((np.dot(np.transpose(y),np.divide(pdf,cdf)+np.dot(np.transpose((np.ones((len(y)))-y)),np.divide(pdf,(np.ones((len(y)))-cdf)))),x))\n",
    "    return probit_grad\n",
    "\n"
   ]
  },
  {
   "cell_type": "code",
   "execution_count": 17,
   "metadata": {},
   "outputs": [
    {
     "name": "stdout",
     "output_type": "stream",
     "text": [
      "(array([ 133.64487307,   90.63598597,  207.07455138,   39.73166789,\n",
      "       -136.66549131, -183.39959733, -112.58935819,   49.99600503,\n",
      "       -158.34362933,  307.34719709,   49.04103666,   21.40773423,\n",
      "        108.3864759 ,  -57.66159097,    2.89159205,   -3.98038969,\n",
      "       -252.36687538,   71.66303973, -137.01389368,   -9.57681321,\n",
      "       -110.30385263,    6.03441282,   27.42153814, -119.82546665,\n",
      "        -11.08709402, -165.11757693,   82.73999787,   94.07756547,\n",
      "        -28.70485655,    1.75335244]), [[125000.0], [125000.0], [125000.0], [125000.0], [125000.0], [125000.0], [164333.0], [164333.0], [164334.0], [164334.0]])\n"
     ]
    },
    {
     "ename": "ValueError",
     "evalue": "setting an array element with a sequence.",
     "output_type": "error",
     "traceback": [
      "\u001b[0;31m---------------------------------------------------------------------------\u001b[0m",
      "\u001b[0;31mValueError\u001b[0m                                Traceback (most recent call last)",
      "\u001b[0;32m<ipython-input-17-f2a966191664>\u001b[0m in \u001b[0;36m<module>\u001b[0;34m()\u001b[0m\n\u001b[1;32m      1\u001b[0m \u001b[0mprint\u001b[0m\u001b[0;34m(\u001b[0m\u001b[0mweights\u001b[0m\u001b[0;34m)\u001b[0m\u001b[0;34m\u001b[0m\u001b[0m\n\u001b[0;32m----> 2\u001b[0;31m \u001b[0mx\u001b[0m\u001b[0;34m=\u001b[0m\u001b[0mnp\u001b[0m\u001b[0;34m.\u001b[0m\u001b[0mdot\u001b[0m\u001b[0;34m(\u001b[0m\u001b[0mtx\u001b[0m\u001b[0;34m,\u001b[0m\u001b[0mweights\u001b[0m\u001b[0;34m)\u001b[0m\u001b[0;34m\u001b[0m\u001b[0m\n\u001b[0m\u001b[1;32m      3\u001b[0m \u001b[0my_pred\u001b[0m\u001b[0;34m=\u001b[0m\u001b[0;36m1\u001b[0m\u001b[0;34m/\u001b[0m\u001b[0;34m(\u001b[0m\u001b[0;36m1\u001b[0m\u001b[0;34m+\u001b[0m\u001b[0mnp\u001b[0m\u001b[0;34m.\u001b[0m\u001b[0mexp\u001b[0m\u001b[0;34m(\u001b[0m\u001b[0;34m-\u001b[0m\u001b[0mx\u001b[0m\u001b[0;34m)\u001b[0m\u001b[0;34m)\u001b[0m\u001b[0;34m\u001b[0m\u001b[0m\n",
      "\u001b[0;31mValueError\u001b[0m: setting an array element with a sequence."
     ]
    }
   ],
   "source": [
    "print(weights)\n",
    "x=np.dot(tx,weights)\n",
    "y_pred=1/(1+np.exp(-x))\n"
   ]
  },
  {
   "cell_type": "code",
   "execution_count": 5,
   "metadata": {
    "collapsed": true
   },
   "outputs": [],
   "source": [
    "def glr(y,x,max_iters=10000,gamma=0.5,w_initial='zeros',type='logistic'):\n",
    "    loss=[]\n",
    "    if w_initial=='zeros': \n",
    "       w_initial=np.zeros(x.shape[1])\n",
    "    elif w_initial=='ones':    \n",
    "        w_initial=np.ones(x.shape[1])\n",
    "    else: \n",
    "        w_initial=np.random.rand(x.shape[1])\n",
    "    w = w_initial\n",
    "    if type=='logistic':\n",
    "        for n_iter in range(max_iters):\n",
    "            loss_log=-logistic_log_likelihood(y,x,w)\n",
    "            grad=logistic_gradient(y,x,w)\n",
    "            w_1=w-gamma*grad+np.random.normal(0,100,x.shape[1])\n",
    "            loss_log1=-logistic_log_likelihood(y,x,w_1)\n",
    "            if loss_1<loss:\n",
    "                w=w_1\n",
    "            else :\n",
    "                w=w\n",
    "            loss.append([loss_log])\n",
    "            #raise NotImplementedError\n",
    "            print(\"Logistic Regression{bi}/{ti}): loss={l}\".format(\n",
    "             bi=n_iter, ti=max_iters - 1,l=loss))\n",
    "    else: \n",
    "        for n_iter in range(max_iters):\n",
    "            print(n_iter)\n",
    "            loss_prob=-probit_log_likelihood(y,x,w)\n",
    "            grad=probit_gradient(y,x,w)\n",
    "            w_1=w-gamma*grad+np.random.normal(0,100,x.shape[1])\n",
    "            loss_prob1=-probit_log_likelihood(y,x,w_1)\n",
    "            if loss_1<loss:\n",
    "                w=w_1\n",
    "            else :\n",
    "                w=w\n",
    "            loss.append([loss_prob])\n",
    "            print(\"Probit Regression{bi}/{ti}): loss={l}\".format(\n",
    "             bi=n_iter, ti=max_iters - 1,l=loss))\n",
    "    return  w\n",
    "          "
   ]
  },
  {
   "cell_type": "code",
   "execution_count": 7,
   "metadata": {},
   "outputs": [
    {
     "name": "stdout",
     "output_type": "stream",
     "text": [
      "Started\n",
      "0\n",
      "(250000, 90)\n"
     ]
    },
    {
     "ename": "ValueError",
     "evalue": "shapes (250000,90) and (250000,90) not aligned: 90 (dim 1) != 250000 (dim 0)",
     "output_type": "error",
     "traceback": [
      "\u001b[0;31m---------------------------------------------------------------------------\u001b[0m",
      "\u001b[0;31mValueError\u001b[0m                                Traceback (most recent call last)",
      "\u001b[0;32m<ipython-input-7-7a6237213e01>\u001b[0m in \u001b[0;36m<module>\u001b[0;34m()\u001b[0m\n\u001b[1;32m     13\u001b[0m \u001b[0mz\u001b[0m\u001b[0;34m=\u001b[0m\u001b[0mnp\u001b[0m\u001b[0;34m.\u001b[0m\u001b[0mdot\u001b[0m\u001b[0;34m(\u001b[0m\u001b[0mtx\u001b[0m\u001b[0;34m,\u001b[0m\u001b[0mw_initial\u001b[0m\u001b[0;34m)\u001b[0m\u001b[0;34m\u001b[0m\u001b[0m\n\u001b[1;32m     14\u001b[0m \u001b[0mprobit_pdf\u001b[0m\u001b[0;34m=\u001b[0m\u001b[0mnorm\u001b[0m\u001b[0;34m.\u001b[0m\u001b[0mpdf\u001b[0m\u001b[0;34m(\u001b[0m\u001b[0mz\u001b[0m\u001b[0;34m,\u001b[0m\u001b[0mloc\u001b[0m\u001b[0;34m=\u001b[0m\u001b[0;36m0\u001b[0m\u001b[0;34m,\u001b[0m\u001b[0mscale\u001b[0m\u001b[0;34m=\u001b[0m\u001b[0;36m1\u001b[0m\u001b[0;34m)\u001b[0m\u001b[0;34m\u001b[0m\u001b[0m\n\u001b[0;32m---> 15\u001b[0;31m \u001b[0mweights\u001b[0m\u001b[0;34m,\u001b[0m \u001b[0mloss\u001b[0m\u001b[0;34m=\u001b[0m\u001b[0mreg\u001b[0m\u001b[0;34m.\u001b[0m\u001b[0mglr\u001b[0m\u001b[0;34m(\u001b[0m\u001b[0my\u001b[0m\u001b[0;34m,\u001b[0m\u001b[0mtx\u001b[0m\u001b[0;34m,\u001b[0m\u001b[0mmax_iters\u001b[0m\u001b[0;34m=\u001b[0m\u001b[0;36m1\u001b[0m\u001b[0;34m,\u001b[0m\u001b[0mgamma\u001b[0m\u001b[0;34m=\u001b[0m\u001b[0;36m0.8\u001b[0m\u001b[0;34m,\u001b[0m\u001b[0mw_initial\u001b[0m\u001b[0;34m=\u001b[0m\u001b[0;34m'zeros'\u001b[0m\u001b[0;34m,\u001b[0m\u001b[0mtype\u001b[0m\u001b[0;34m=\u001b[0m\u001b[0;34m'probit'\u001b[0m\u001b[0;34m)\u001b[0m\u001b[0;34m\u001b[0m\u001b[0m\n\u001b[0m\u001b[1;32m     16\u001b[0m \u001b[0;31m#w=reg.logistic_regression_bilguun(y, tx)\u001b[0m\u001b[0;34m\u001b[0m\u001b[0;34m\u001b[0m\u001b[0m\n\u001b[1;32m     17\u001b[0m \u001b[0my\u001b[0m\u001b[0;34m,\u001b[0m\u001b[0mtx\u001b[0m\u001b[0;34m,\u001b[0m\u001b[0mids\u001b[0m\u001b[0;34m=\u001b[0m\u001b[0mhelper\u001b[0m\u001b[0;34m.\u001b[0m\u001b[0mload_csv_data\u001b[0m\u001b[0;34m(\u001b[0m\u001b[0;34m\"../test.csv\"\u001b[0m\u001b[0;34m,\u001b[0m\u001b[0mstandard\u001b[0m\u001b[0;34m=\u001b[0m\u001b[0;32mTrue\u001b[0m\u001b[0;34m,\u001b[0m\u001b[0mnormal\u001b[0m\u001b[0;34m=\u001b[0m\u001b[0;32mTrue\u001b[0m\u001b[0;34m)\u001b[0m\u001b[0;34m\u001b[0m\u001b[0m\n",
      "\u001b[0;32m~/Dropbox/1.PHD/2.COURSESTAKEN/MACHINELEARNING/Project1/MachineLearningLOL/scripts/regressors.py\u001b[0m in \u001b[0;36mglr\u001b[0;34m(y, x, max_iters, gamma, w_initial, type)\u001b[0m\n\u001b[1;32m    399\u001b[0m             \u001b[0mgrad\u001b[0m\u001b[0;34m=\u001b[0m\u001b[0mprobit_gradient\u001b[0m\u001b[0;34m(\u001b[0m\u001b[0my\u001b[0m\u001b[0;34m,\u001b[0m\u001b[0mx\u001b[0m\u001b[0;34m,\u001b[0m\u001b[0mw\u001b[0m\u001b[0;34m)\u001b[0m\u001b[0;34m\u001b[0m\u001b[0m\n\u001b[1;32m    400\u001b[0m             \u001b[0mw_1\u001b[0m\u001b[0;34m=\u001b[0m\u001b[0mw\u001b[0m\u001b[0;34m-\u001b[0m\u001b[0mgamma\u001b[0m\u001b[0;34m*\u001b[0m\u001b[0mgrad\u001b[0m\u001b[0;34m+\u001b[0m\u001b[0mnp\u001b[0m\u001b[0;34m.\u001b[0m\u001b[0mrandom\u001b[0m\u001b[0;34m.\u001b[0m\u001b[0mnormal\u001b[0m\u001b[0;34m(\u001b[0m\u001b[0;36m0\u001b[0m\u001b[0;34m,\u001b[0m\u001b[0;36m100\u001b[0m\u001b[0;34m,\u001b[0m\u001b[0mx\u001b[0m\u001b[0;34m.\u001b[0m\u001b[0mshape\u001b[0m\u001b[0;34m[\u001b[0m\u001b[0;36m1\u001b[0m\u001b[0;34m]\u001b[0m\u001b[0;34m)\u001b[0m\u001b[0;34m\u001b[0m\u001b[0m\n\u001b[0;32m--> 401\u001b[0;31m             \u001b[0mloss_prob1\u001b[0m\u001b[0;34m=\u001b[0m\u001b[0;34m-\u001b[0m\u001b[0mprobit_log_likelihood\u001b[0m\u001b[0;34m(\u001b[0m\u001b[0my\u001b[0m\u001b[0;34m,\u001b[0m\u001b[0mx\u001b[0m\u001b[0;34m,\u001b[0m\u001b[0mw_1\u001b[0m\u001b[0;34m)\u001b[0m\u001b[0;34m\u001b[0m\u001b[0m\n\u001b[0m\u001b[1;32m    402\u001b[0m             \u001b[0;32mif\u001b[0m \u001b[0mloss_1\u001b[0m\u001b[0;34m<\u001b[0m\u001b[0mloss\u001b[0m\u001b[0;34m:\u001b[0m\u001b[0;34m\u001b[0m\u001b[0m\n\u001b[1;32m    403\u001b[0m                 \u001b[0mw\u001b[0m\u001b[0;34m=\u001b[0m\u001b[0mw_1\u001b[0m\u001b[0;34m\u001b[0m\u001b[0m\n",
      "\u001b[0;32m~/Dropbox/1.PHD/2.COURSESTAKEN/MACHINELEARNING/Project1/MachineLearningLOL/Probit.py\u001b[0m in \u001b[0;36mprobit_log_likelihood\u001b[0;34m(y, x, w)\u001b[0m\n\u001b[1;32m     34\u001b[0m \u001b[0;31m#   w= weights\u001b[0m\u001b[0;34m\u001b[0m\u001b[0;34m\u001b[0m\u001b[0m\n\u001b[1;32m     35\u001b[0m \u001b[0;32mdef\u001b[0m \u001b[0mprobit_log_likelihood\u001b[0m\u001b[0;34m(\u001b[0m\u001b[0my\u001b[0m\u001b[0;34m,\u001b[0m\u001b[0mx\u001b[0m\u001b[0;34m,\u001b[0m\u001b[0mw\u001b[0m\u001b[0;34m)\u001b[0m\u001b[0;34m:\u001b[0m\u001b[0;34m\u001b[0m\u001b[0m\n\u001b[0;32m---> 36\u001b[0;31m     \u001b[0mp_cdf\u001b[0m\u001b[0;34m=\u001b[0m\u001b[0mprobit_cdf\u001b[0m\u001b[0;34m(\u001b[0m\u001b[0my\u001b[0m\u001b[0;34m,\u001b[0m\u001b[0mx\u001b[0m\u001b[0;34m,\u001b[0m\u001b[0mw\u001b[0m\u001b[0;34m)\u001b[0m\u001b[0;34m\u001b[0m\u001b[0m\n\u001b[0m\u001b[1;32m     37\u001b[0m     \u001b[0mprobit_log_likelihood\u001b[0m\u001b[0;34m=\u001b[0m\u001b[0mnp\u001b[0m\u001b[0;34m.\u001b[0m\u001b[0mdot\u001b[0m\u001b[0;34m(\u001b[0m\u001b[0mnp\u001b[0m\u001b[0;34m.\u001b[0m\u001b[0mtranspose\u001b[0m\u001b[0;34m(\u001b[0m\u001b[0my\u001b[0m\u001b[0;34m)\u001b[0m\u001b[0;34m,\u001b[0m\u001b[0mp_cdf\u001b[0m\u001b[0;34m)\u001b[0m\u001b[0;34m+\u001b[0m\u001b[0mnp\u001b[0m\u001b[0;34m.\u001b[0m\u001b[0mdot\u001b[0m\u001b[0;34m(\u001b[0m\u001b[0mnp\u001b[0m\u001b[0;34m.\u001b[0m\u001b[0mtranspose\u001b[0m\u001b[0;34m(\u001b[0m\u001b[0my\u001b[0m\u001b[0;34m-\u001b[0m\u001b[0mnp\u001b[0m\u001b[0;34m.\u001b[0m\u001b[0mones\u001b[0m\u001b[0;34m(\u001b[0m\u001b[0;34m(\u001b[0m\u001b[0mlen\u001b[0m\u001b[0;34m(\u001b[0m\u001b[0my\u001b[0m\u001b[0;34m)\u001b[0m\u001b[0;34m)\u001b[0m\u001b[0;34m)\u001b[0m\u001b[0;34m)\u001b[0m\u001b[0;34m,\u001b[0m\u001b[0mnp\u001b[0m\u001b[0;34m.\u001b[0m\u001b[0mones\u001b[0m\u001b[0;34m(\u001b[0m\u001b[0;34m(\u001b[0m\u001b[0mlen\u001b[0m\u001b[0;34m(\u001b[0m\u001b[0my\u001b[0m\u001b[0;34m)\u001b[0m\u001b[0;34m)\u001b[0m\u001b[0;34m)\u001b[0m\u001b[0;34m-\u001b[0m\u001b[0mp_cdf\u001b[0m\u001b[0;34m)\u001b[0m\u001b[0;34m\u001b[0m\u001b[0m\n\u001b[1;32m     38\u001b[0m     \u001b[0;32mreturn\u001b[0m \u001b[0mprobit_log_likelihood\u001b[0m\u001b[0;34m\u001b[0m\u001b[0m\n",
      "\u001b[0;32m~/Dropbox/1.PHD/2.COURSESTAKEN/MACHINELEARNING/Project1/MachineLearningLOL/Probit.py\u001b[0m in \u001b[0;36mprobit_cdf\u001b[0;34m(y, x, w)\u001b[0m\n\u001b[1;32m     10\u001b[0m \u001b[0;31m#   w= weights\u001b[0m\u001b[0;34m\u001b[0m\u001b[0;34m\u001b[0m\u001b[0m\n\u001b[1;32m     11\u001b[0m \u001b[0;32mdef\u001b[0m \u001b[0mprobit_cdf\u001b[0m\u001b[0;34m(\u001b[0m\u001b[0my\u001b[0m\u001b[0;34m,\u001b[0m\u001b[0mx\u001b[0m\u001b[0;34m,\u001b[0m\u001b[0mw\u001b[0m\u001b[0;34m)\u001b[0m\u001b[0;34m:\u001b[0m\u001b[0;34m\u001b[0m\u001b[0m\n\u001b[0;32m---> 12\u001b[0;31m     \u001b[0mz\u001b[0m\u001b[0;34m=\u001b[0m\u001b[0mnp\u001b[0m\u001b[0;34m.\u001b[0m\u001b[0mdot\u001b[0m\u001b[0;34m(\u001b[0m\u001b[0mx\u001b[0m\u001b[0;34m,\u001b[0m\u001b[0mw\u001b[0m\u001b[0;34m)\u001b[0m\u001b[0;34m\u001b[0m\u001b[0m\n\u001b[0m\u001b[1;32m     13\u001b[0m     \u001b[0mprobit_cdf\u001b[0m\u001b[0;34m=\u001b[0m\u001b[0mnorm\u001b[0m\u001b[0;34m.\u001b[0m\u001b[0mcdf\u001b[0m\u001b[0;34m(\u001b[0m\u001b[0mz\u001b[0m\u001b[0;34m,\u001b[0m\u001b[0mloc\u001b[0m\u001b[0;34m=\u001b[0m\u001b[0;36m0\u001b[0m\u001b[0;34m,\u001b[0m\u001b[0mscale\u001b[0m\u001b[0;34m=\u001b[0m\u001b[0;36m1\u001b[0m\u001b[0;34m)\u001b[0m\u001b[0;34m\u001b[0m\u001b[0m\n\u001b[1;32m     14\u001b[0m     \u001b[0;32mreturn\u001b[0m \u001b[0mprobit_cdf\u001b[0m\u001b[0;34m\u001b[0m\u001b[0m\n",
      "\u001b[0;31mValueError\u001b[0m: shapes (250000,90) and (250000,90) not aligned: 90 (dim 1) != 250000 (dim 0)"
     ]
    }
   ],
   "source": [
    "import scripts.regressors as reg\n",
    "import scripts.proj1_helpers as helper\n",
    "import scripts.supportFunctions as sp\n",
    "import numpy as np\n",
    "from Probit import *\n",
    "#load the data\n",
    "y,tx,ids=helper.load_csv_data(\"data/train.csv\",standard=True,normal=True)\n",
    "print(\"Started\")\n",
    "degree=2\n",
    "tx=sp.build_poly(tx,degree)\n",
    "lambda_=0.7\n",
    "w_initial=np.zeros((tx.shape[1]))\n",
    "z=np.dot(tx,w_initial)\n",
    "probit_pdf=norm.pdf(z,loc=0,scale=1)\n",
    "weights, loss=reg.glr(y,tx,max_iters=1,gamma=0.8,w_initial='zeros',type='probit')\n",
    "#w=reg.logistic_regression_bilguun(y, tx)\n",
    "y,tx,ids=helper.load_csv_data(\"../test.csv\",standard=True,normal=True)\n",
    "tx=sp.build_poly(tx,degree)\n",
    "y_pred=helper.predict_labels(weights, tx, threshold=0.5,islogistic=True)\n",
    "name=\"probit\"\n",
    "helper.create_csv_submission(ids, y_pred, name)\n",
    "print(\"end\")"
   ]
  },
  {
   "cell_type": "code",
   "execution_count": null,
   "metadata": {
    "collapsed": true
   },
   "outputs": [],
   "source": []
  },
  {
   "cell_type": "code",
   "execution_count": null,
   "metadata": {
    "collapsed": true
   },
   "outputs": [],
   "source": [
    "y,tx,ids=helper.load_csv_data(\"../test.csv\",standard=True,normal=True)\n",
    "y_pred=helper.predict_labels(weights, tx, threshold=0.5,islogistic=True)\n",
    "name=\"logistic_monika\"\n",
    "helper.create_csv_submission(ids, y_pred, name)"
   ]
  },
  {
   "cell_type": "code",
   "execution_count": null,
   "metadata": {
    "collapsed": true
   },
   "outputs": [],
   "source": []
  }
 ],
 "metadata": {
  "kernelspec": {
   "display_name": "Python 3",
   "language": "python",
   "name": "python3"
  },
  "language_info": {
   "codemirror_mode": {
    "name": "ipython",
    "version": 3
   },
   "file_extension": ".py",
   "mimetype": "text/x-python",
   "name": "python",
   "nbconvert_exporter": "python",
   "pygments_lexer": "ipython3",
   "version": "3.6.2"
  }
 },
 "nbformat": 4,
 "nbformat_minor": 2
}
