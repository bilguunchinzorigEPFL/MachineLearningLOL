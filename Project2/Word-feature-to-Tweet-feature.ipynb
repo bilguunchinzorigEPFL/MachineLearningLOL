{
 "cells": [
  {
   "cell_type": "code",
   "execution_count": 110,
   "metadata": {
    "collapsed": true
   },
   "outputs": [],
   "source": [
    "import pandas as pd\n",
    "import pickle\n",
    "import numpy as np\n",
    "p_processed=pickle.load(open('../prepared-data/p_processed', 'rb'))\n",
    "n_processed=pickle.load(open('../prepared-data/n_processed', 'rb'))\n",
    "vocabulary=pickle.load(open('../prepared-data/vocabulary', 'rb'))\n",
    "\n",
    "#POS subjective vs objective score (higher means more subjective) added 1 to each\n",
    "tag_scores={'NPS':1-0.82,'WP$':1-0.7,'POS':1-0.45,'NP':1-0.39,'NNS':1-0.32,'IN':1-0.21,'VBN':1-0.21,\n",
    "   'VBZ':1-0.15,'JJR':1-0.1,'RBS':1-0.03,'TO':1+0.01,'NN':1+0.02,'JJS':1+0.05,'JJ':1+0.1,\n",
    "   'DT':1+0.11,'VBG':1+0.15,'VBD':1+0.19,'WDT':1+0.21,'WP':1+0.23,'RP':1+0.24,'MD':1+0.3,'VB':1+0.3,\n",
    "   'RBR':1+0.31,'CC':1+0.33,'EX':1+0.37,'VBP':1+0.51,'WRB':1+0.57,'PP$':1+0.59,'RB':1+0.6,'PP':1+0.78,\n",
    "   'PDT':1+0.79,'UH':1+0.83}"
   ]
  },
  {
   "cell_type": "markdown",
   "metadata": {},
   "source": [
    "# Feature Processing\n",
    "Pre-processed result will have\n",
    "    words, hashtag, pos tag, negations, word emphasizes\n",
    "\n",
    "Once we get the word features, we now have to represent the tweet using them. We can have multiple variations of such representation\n",
    "1. Mean of tfidf\n",
    "2. Weighted sum of tfidf-s by hashtags, pos_tags, negations, emphasizes\n",
    "3. 2 with additional parameters\n",
    "4. Considering multiple words"
   ]
  },
  {
   "cell_type": "code",
   "execution_count": 96,
   "metadata": {},
   "outputs": [
    {
     "name": "stdout",
     "output_type": "stream",
     "text": [
      "Half Finished\n"
     ]
    }
   ],
   "source": [
    "def feature_processor1(tweetB):\n",
    "    try:\n",
    "        return vocabulary.loc[tweetB[0]].mean(axis=0)\n",
    "    except:\n",
    "        return [-999,-999]\n",
    "p_features1=np.array([feature_processor1(tweet) for tweet in p_processed])\n",
    "print(\"Half Finished\")\n",
    "n_features1=np.array([feature_processor1(tweet) for tweet in n_processed])"
   ]
  },
  {
   "cell_type": "code",
   "execution_count": 111,
   "metadata": {},
   "outputs": [
    {
     "data": {
      "text/plain": [
       "[0.35881999999999997, 0.96758999999999995]"
      ]
     },
     "execution_count": 111,
     "metadata": {},
     "output_type": "execute_result"
    }
   ],
   "source": [
    "[sum(p_features1[:,0]>p_features1[:,1])/100000,sum(n_features1[:,0]<n_features1[:,1])/100000]"
   ]
  },
  {
   "cell_type": "code",
   "execution_count": 112,
   "metadata": {},
   "outputs": [
    {
     "name": "stdout",
     "output_type": "stream",
     "text": [
      "Half Finished\n"
     ]
    }
   ],
   "source": [
    "def pos2impact(tags):\n",
    "    return np.array([tag_scores[tag] if tag in tag_scores.keys() else 1 for tag in tags])\n",
    "def feature_processor2(tweetB):\n",
    "    try:\n",
    "        tweet=vocabulary.loc[tweetB[0]].fillna(0)\n",
    "        weights=np.array(tweetB[1])+pos2impact(tweetB[2])+tweetB[3]+tweetB[4].astype(int)\n",
    "        return [(tweet.p*weights).mean(),(tweet.n*weights).mean()]\n",
    "    except:\n",
    "        return [-999,-999]\n",
    "p_features2=np.array([feature_processor2(tweet) for tweet in p_processed])\n",
    "print(\"Half Finished\")\n",
    "n_features2=np.array([feature_processor2(tweet) for tweet in n_processed])"
   ]
  },
  {
   "cell_type": "code",
   "execution_count": 113,
   "metadata": {},
   "outputs": [
    {
     "data": {
      "text/plain": [
       "[0.36427999999999999, 0.96647000000000005]"
      ]
     },
     "execution_count": 113,
     "metadata": {},
     "output_type": "execute_result"
    }
   ],
   "source": [
    "[sum(p_features2[:,0]>p_features2[:,1])/100000,sum(n_features2[:,0]<n_features2[:,1])/100000]"
   ]
  },
  {
   "cell_type": "code",
   "execution_count": 115,
   "metadata": {
    "collapsed": true
   },
   "outputs": [],
   "source": [
    "def voc_finder(tweet):\n",
    "    try:\n",
    "        return vocabulary.loc[tweet[0]].fillna(0)\n",
    "    except:\n",
    "        return [-999,-999]\n",
    "ptweet_vocs=[voc_finder(tweet) for tweet in p_processed]\n",
    "ntweet_vocs=[voc_finder(tweet) for tweet in n_processed]"
   ]
  },
  {
   "cell_type": "code",
   "execution_count": 145,
   "metadata": {},
   "outputs": [
    {
     "data": {
      "text/plain": [
       "False"
      ]
     },
     "execution_count": 145,
     "metadata": {},
     "output_type": "execute_result"
    }
   ],
   "source": [
    "not True"
   ]
  },
  {
   "cell_type": "code",
   "execution_count": 163,
   "metadata": {},
   "outputs": [
    {
     "name": "stdout",
     "output_type": "stream",
     "text": [
      "Started calcuation\n",
      "Score:137148,Parameter:0.001\n",
      "Score:137030,Parameter:0.002\n"
     ]
    },
    {
     "ename": "KeyboardInterrupt",
     "evalue": "",
     "output_type": "error",
     "traceback": [
      "\u001b[1;31m---------------------------------------------------------------------------\u001b[0m",
      "\u001b[1;31mKeyboardInterrupt\u001b[0m                         Traceback (most recent call last)",
      "\u001b[1;32m<ipython-input-163-7d6d6cb00cb8>\u001b[0m in \u001b[0;36m<module>\u001b[1;34m()\u001b[0m\n\u001b[0;32m     16\u001b[0m         \u001b[0mnn\u001b[0m\u001b[1;33m=\u001b[0m\u001b[0msum\u001b[0m\u001b[1;33m(\u001b[0m\u001b[1;33m[\u001b[0m\u001b[1;32mnot\u001b[0m \u001b[0mcalc\u001b[0m\u001b[1;33m(\u001b[0m\u001b[0mp\u001b[0m\u001b[1;33m,\u001b[0m\u001b[0mvoc\u001b[0m\u001b[1;33m,\u001b[0m\u001b[0mcons\u001b[0m\u001b[1;33m[\u001b[0m\u001b[1;36m0\u001b[0m\u001b[1;33m]\u001b[0m\u001b[1;33m,\u001b[0m\u001b[0mcons\u001b[0m\u001b[1;33m[\u001b[0m\u001b[1;36m1\u001b[0m\u001b[1;33m]\u001b[0m\u001b[1;33m)\u001b[0m \u001b[1;32mfor\u001b[0m \u001b[0mvoc\u001b[0m\u001b[1;33m,\u001b[0m\u001b[0mcons\u001b[0m \u001b[1;32min\u001b[0m \u001b[0mzip\u001b[0m\u001b[1;33m(\u001b[0m\u001b[0mn_tweet_vocs\u001b[0m\u001b[1;33m,\u001b[0m\u001b[0mn_cons\u001b[0m\u001b[1;33m)\u001b[0m\u001b[1;33m]\u001b[0m\u001b[1;33m)\u001b[0m\u001b[1;33m\u001b[0m\u001b[0m\n\u001b[0;32m     17\u001b[0m         \u001b[0mprint\u001b[0m\u001b[1;33m(\u001b[0m\u001b[1;34m\"Score:{s},Parameter:{par}\"\u001b[0m\u001b[1;33m.\u001b[0m\u001b[0mformat\u001b[0m\u001b[1;33m(\u001b[0m\u001b[0ms\u001b[0m\u001b[1;33m=\u001b[0m\u001b[0mpp\u001b[0m\u001b[1;33m+\u001b[0m\u001b[0mnn\u001b[0m\u001b[1;33m,\u001b[0m\u001b[0mpar\u001b[0m\u001b[1;33m=\u001b[0m\u001b[0mp\u001b[0m\u001b[1;33m)\u001b[0m\u001b[1;33m)\u001b[0m\u001b[1;33m\u001b[0m\u001b[0m\n\u001b[1;32m---> 18\u001b[1;33m \u001b[0mchecker\u001b[0m\u001b[1;33m(\u001b[0m\u001b[0mnp\u001b[0m\u001b[1;33m.\u001b[0m\u001b[0marange\u001b[0m\u001b[1;33m(\u001b[0m\u001b[1;36m0.001\u001b[0m\u001b[1;33m,\u001b[0m\u001b[1;36m0.01\u001b[0m\u001b[1;33m,\u001b[0m\u001b[1;36m0.001\u001b[0m\u001b[1;33m)\u001b[0m\u001b[1;33m,\u001b[0m\u001b[0mptweet_vocs\u001b[0m\u001b[1;33m,\u001b[0m\u001b[0mntweet_vocs\u001b[0m\u001b[1;33m)\u001b[0m\u001b[1;33m\u001b[0m\u001b[0m\n\u001b[0m",
      "\u001b[1;32m<ipython-input-163-7d6d6cb00cb8>\u001b[0m in \u001b[0;36mchecker\u001b[1;34m(ranges, p_tweet_vocs, n_tweet_vocs)\u001b[0m\n\u001b[0;32m     13\u001b[0m \u001b[1;32mdef\u001b[0m \u001b[0mchecker\u001b[0m\u001b[1;33m(\u001b[0m\u001b[0mranges\u001b[0m\u001b[1;33m,\u001b[0m\u001b[0mp_tweet_vocs\u001b[0m\u001b[1;33m,\u001b[0m\u001b[0mn_tweet_vocs\u001b[0m\u001b[1;33m)\u001b[0m\u001b[1;33m:\u001b[0m\u001b[1;33m\u001b[0m\u001b[0m\n\u001b[0;32m     14\u001b[0m     \u001b[1;32mfor\u001b[0m \u001b[0mp\u001b[0m \u001b[1;32min\u001b[0m \u001b[0mranges\u001b[0m\u001b[1;33m:\u001b[0m\u001b[1;33m\u001b[0m\u001b[0m\n\u001b[1;32m---> 15\u001b[1;33m         \u001b[0mpp\u001b[0m\u001b[1;33m=\u001b[0m\u001b[0msum\u001b[0m\u001b[1;33m(\u001b[0m\u001b[1;33m[\u001b[0m\u001b[0mcalc\u001b[0m\u001b[1;33m(\u001b[0m\u001b[0mp\u001b[0m\u001b[1;33m,\u001b[0m\u001b[0mvoc\u001b[0m\u001b[1;33m,\u001b[0m\u001b[0mcons\u001b[0m\u001b[1;33m[\u001b[0m\u001b[1;36m0\u001b[0m\u001b[1;33m]\u001b[0m\u001b[1;33m,\u001b[0m\u001b[0mcons\u001b[0m\u001b[1;33m[\u001b[0m\u001b[1;36m1\u001b[0m\u001b[1;33m]\u001b[0m\u001b[1;33m)\u001b[0m \u001b[1;32mfor\u001b[0m \u001b[0mvoc\u001b[0m\u001b[1;33m,\u001b[0m\u001b[0mcons\u001b[0m \u001b[1;32min\u001b[0m \u001b[0mzip\u001b[0m\u001b[1;33m(\u001b[0m\u001b[0mp_tweet_vocs\u001b[0m\u001b[1;33m,\u001b[0m\u001b[0mp_cons\u001b[0m\u001b[1;33m)\u001b[0m\u001b[1;33m]\u001b[0m\u001b[1;33m)\u001b[0m\u001b[1;33m\u001b[0m\u001b[0m\n\u001b[0m\u001b[0;32m     16\u001b[0m         \u001b[0mnn\u001b[0m\u001b[1;33m=\u001b[0m\u001b[0msum\u001b[0m\u001b[1;33m(\u001b[0m\u001b[1;33m[\u001b[0m\u001b[1;32mnot\u001b[0m \u001b[0mcalc\u001b[0m\u001b[1;33m(\u001b[0m\u001b[0mp\u001b[0m\u001b[1;33m,\u001b[0m\u001b[0mvoc\u001b[0m\u001b[1;33m,\u001b[0m\u001b[0mcons\u001b[0m\u001b[1;33m[\u001b[0m\u001b[1;36m0\u001b[0m\u001b[1;33m]\u001b[0m\u001b[1;33m,\u001b[0m\u001b[0mcons\u001b[0m\u001b[1;33m[\u001b[0m\u001b[1;36m1\u001b[0m\u001b[1;33m]\u001b[0m\u001b[1;33m)\u001b[0m \u001b[1;32mfor\u001b[0m \u001b[0mvoc\u001b[0m\u001b[1;33m,\u001b[0m\u001b[0mcons\u001b[0m \u001b[1;32min\u001b[0m \u001b[0mzip\u001b[0m\u001b[1;33m(\u001b[0m\u001b[0mn_tweet_vocs\u001b[0m\u001b[1;33m,\u001b[0m\u001b[0mn_cons\u001b[0m\u001b[1;33m)\u001b[0m\u001b[1;33m]\u001b[0m\u001b[1;33m)\u001b[0m\u001b[1;33m\u001b[0m\u001b[0m\n\u001b[0;32m     17\u001b[0m         \u001b[0mprint\u001b[0m\u001b[1;33m(\u001b[0m\u001b[1;34m\"Score:{s},Parameter:{par}\"\u001b[0m\u001b[1;33m.\u001b[0m\u001b[0mformat\u001b[0m\u001b[1;33m(\u001b[0m\u001b[0ms\u001b[0m\u001b[1;33m=\u001b[0m\u001b[0mpp\u001b[0m\u001b[1;33m+\u001b[0m\u001b[0mnn\u001b[0m\u001b[1;33m,\u001b[0m\u001b[0mpar\u001b[0m\u001b[1;33m=\u001b[0m\u001b[0mp\u001b[0m\u001b[1;33m)\u001b[0m\u001b[1;33m)\u001b[0m\u001b[1;33m\u001b[0m\u001b[0m\n",
      "\u001b[1;32m<ipython-input-163-7d6d6cb00cb8>\u001b[0m in \u001b[0;36m<listcomp>\u001b[1;34m(.0)\u001b[0m\n\u001b[0;32m     13\u001b[0m \u001b[1;32mdef\u001b[0m \u001b[0mchecker\u001b[0m\u001b[1;33m(\u001b[0m\u001b[0mranges\u001b[0m\u001b[1;33m,\u001b[0m\u001b[0mp_tweet_vocs\u001b[0m\u001b[1;33m,\u001b[0m\u001b[0mn_tweet_vocs\u001b[0m\u001b[1;33m)\u001b[0m\u001b[1;33m:\u001b[0m\u001b[1;33m\u001b[0m\u001b[0m\n\u001b[0;32m     14\u001b[0m     \u001b[1;32mfor\u001b[0m \u001b[0mp\u001b[0m \u001b[1;32min\u001b[0m \u001b[0mranges\u001b[0m\u001b[1;33m:\u001b[0m\u001b[1;33m\u001b[0m\u001b[0m\n\u001b[1;32m---> 15\u001b[1;33m         \u001b[0mpp\u001b[0m\u001b[1;33m=\u001b[0m\u001b[0msum\u001b[0m\u001b[1;33m(\u001b[0m\u001b[1;33m[\u001b[0m\u001b[0mcalc\u001b[0m\u001b[1;33m(\u001b[0m\u001b[0mp\u001b[0m\u001b[1;33m,\u001b[0m\u001b[0mvoc\u001b[0m\u001b[1;33m,\u001b[0m\u001b[0mcons\u001b[0m\u001b[1;33m[\u001b[0m\u001b[1;36m0\u001b[0m\u001b[1;33m]\u001b[0m\u001b[1;33m,\u001b[0m\u001b[0mcons\u001b[0m\u001b[1;33m[\u001b[0m\u001b[1;36m1\u001b[0m\u001b[1;33m]\u001b[0m\u001b[1;33m)\u001b[0m \u001b[1;32mfor\u001b[0m \u001b[0mvoc\u001b[0m\u001b[1;33m,\u001b[0m\u001b[0mcons\u001b[0m \u001b[1;32min\u001b[0m \u001b[0mzip\u001b[0m\u001b[1;33m(\u001b[0m\u001b[0mp_tweet_vocs\u001b[0m\u001b[1;33m,\u001b[0m\u001b[0mp_cons\u001b[0m\u001b[1;33m)\u001b[0m\u001b[1;33m]\u001b[0m\u001b[1;33m)\u001b[0m\u001b[1;33m\u001b[0m\u001b[0m\n\u001b[0m\u001b[0;32m     16\u001b[0m         \u001b[0mnn\u001b[0m\u001b[1;33m=\u001b[0m\u001b[0msum\u001b[0m\u001b[1;33m(\u001b[0m\u001b[1;33m[\u001b[0m\u001b[1;32mnot\u001b[0m \u001b[0mcalc\u001b[0m\u001b[1;33m(\u001b[0m\u001b[0mp\u001b[0m\u001b[1;33m,\u001b[0m\u001b[0mvoc\u001b[0m\u001b[1;33m,\u001b[0m\u001b[0mcons\u001b[0m\u001b[1;33m[\u001b[0m\u001b[1;36m0\u001b[0m\u001b[1;33m]\u001b[0m\u001b[1;33m,\u001b[0m\u001b[0mcons\u001b[0m\u001b[1;33m[\u001b[0m\u001b[1;36m1\u001b[0m\u001b[1;33m]\u001b[0m\u001b[1;33m)\u001b[0m \u001b[1;32mfor\u001b[0m \u001b[0mvoc\u001b[0m\u001b[1;33m,\u001b[0m\u001b[0mcons\u001b[0m \u001b[1;32min\u001b[0m \u001b[0mzip\u001b[0m\u001b[1;33m(\u001b[0m\u001b[0mn_tweet_vocs\u001b[0m\u001b[1;33m,\u001b[0m\u001b[0mn_cons\u001b[0m\u001b[1;33m)\u001b[0m\u001b[1;33m]\u001b[0m\u001b[1;33m)\u001b[0m\u001b[1;33m\u001b[0m\u001b[0m\n\u001b[0;32m     17\u001b[0m         \u001b[0mprint\u001b[0m\u001b[1;33m(\u001b[0m\u001b[1;34m\"Score:{s},Parameter:{par}\"\u001b[0m\u001b[1;33m.\u001b[0m\u001b[0mformat\u001b[0m\u001b[1;33m(\u001b[0m\u001b[0ms\u001b[0m\u001b[1;33m=\u001b[0m\u001b[0mpp\u001b[0m\u001b[1;33m+\u001b[0m\u001b[0mnn\u001b[0m\u001b[1;33m,\u001b[0m\u001b[0mpar\u001b[0m\u001b[1;33m=\u001b[0m\u001b[0mp\u001b[0m\u001b[1;33m)\u001b[0m\u001b[1;33m)\u001b[0m\u001b[1;33m\u001b[0m\u001b[0m\n",
      "\u001b[1;32m<ipython-input-163-7d6d6cb00cb8>\u001b[0m in \u001b[0;36mcalc\u001b[1;34m(p, voc, var, cons)\u001b[0m\n\u001b[0;32m      8\u001b[0m     \u001b[1;32mif\u001b[0m\u001b[1;33m(\u001b[0m\u001b[0mtype\u001b[0m\u001b[1;33m(\u001b[0m\u001b[0mvoc\u001b[0m\u001b[1;33m)\u001b[0m\u001b[1;33m!=\u001b[0m\u001b[0mtype\u001b[0m\u001b[1;33m(\u001b[0m\u001b[1;33m[\u001b[0m\u001b[1;33m]\u001b[0m\u001b[1;33m)\u001b[0m\u001b[1;33m)\u001b[0m\u001b[1;33m:\u001b[0m\u001b[1;33m\u001b[0m\u001b[0m\n\u001b[0;32m      9\u001b[0m         \u001b[0mw\u001b[0m\u001b[1;33m=\u001b[0m\u001b[0mp\u001b[0m\u001b[1;33m*\u001b[0m\u001b[0mvar\u001b[0m\u001b[1;33m+\u001b[0m\u001b[0mcons\u001b[0m\u001b[1;33m\u001b[0m\u001b[0m\n\u001b[1;32m---> 10\u001b[1;33m         \u001b[1;32mreturn\u001b[0m \u001b[1;33m(\u001b[0m\u001b[0mvoc\u001b[0m\u001b[1;33m.\u001b[0m\u001b[0mp\u001b[0m\u001b[1;33m*\u001b[0m\u001b[0mw\u001b[0m\u001b[1;33m)\u001b[0m\u001b[1;33m.\u001b[0m\u001b[0mmean\u001b[0m\u001b[1;33m(\u001b[0m\u001b[1;33m)\u001b[0m\u001b[1;33m>\u001b[0m\u001b[1;33m(\u001b[0m\u001b[0mvoc\u001b[0m\u001b[1;33m.\u001b[0m\u001b[0mn\u001b[0m\u001b[1;33m*\u001b[0m\u001b[0mw\u001b[0m\u001b[1;33m)\u001b[0m\u001b[1;33m.\u001b[0m\u001b[0mmean\u001b[0m\u001b[1;33m(\u001b[0m\u001b[1;33m)\u001b[0m\u001b[1;33m\u001b[0m\u001b[0m\n\u001b[0m\u001b[0;32m     11\u001b[0m     \u001b[1;32melse\u001b[0m\u001b[1;33m:\u001b[0m\u001b[1;33m\u001b[0m\u001b[0m\n\u001b[0;32m     12\u001b[0m         \u001b[1;32mreturn\u001b[0m \u001b[1;32mFalse\u001b[0m\u001b[1;33m\u001b[0m\u001b[0m\n",
      "\u001b[1;32mC:\\Users\\Bilguun\\Anaconda3\\lib\\site-packages\\pandas\\core\\generic.py\u001b[0m in \u001b[0;36mstat_func\u001b[1;34m(self, axis, skipna, level, numeric_only, **kwargs)\u001b[0m\n\u001b[0;32m   6340\u001b[0m                                       skipna=skipna)\n\u001b[0;32m   6341\u001b[0m         return self._reduce(f, name, axis=axis, skipna=skipna,\n\u001b[1;32m-> 6342\u001b[1;33m                             numeric_only=numeric_only)\n\u001b[0m\u001b[0;32m   6343\u001b[0m \u001b[1;33m\u001b[0m\u001b[0m\n\u001b[0;32m   6344\u001b[0m     \u001b[1;32mreturn\u001b[0m \u001b[0mset_function_name\u001b[0m\u001b[1;33m(\u001b[0m\u001b[0mstat_func\u001b[0m\u001b[1;33m,\u001b[0m \u001b[0mname\u001b[0m\u001b[1;33m,\u001b[0m \u001b[0mcls\u001b[0m\u001b[1;33m)\u001b[0m\u001b[1;33m\u001b[0m\u001b[0m\n",
      "\u001b[1;32mC:\\Users\\Bilguun\\Anaconda3\\lib\\site-packages\\pandas\\core\\series.py\u001b[0m in \u001b[0;36m_reduce\u001b[1;34m(self, op, name, axis, skipna, numeric_only, filter_type, **kwds)\u001b[0m\n\u001b[0;32m   2379\u001b[0m                                           'numeric_only.'.format(name))\n\u001b[0;32m   2380\u001b[0m             \u001b[1;32mwith\u001b[0m \u001b[0mnp\u001b[0m\u001b[1;33m.\u001b[0m\u001b[0merrstate\u001b[0m\u001b[1;33m(\u001b[0m\u001b[0mall\u001b[0m\u001b[1;33m=\u001b[0m\u001b[1;34m'ignore'\u001b[0m\u001b[1;33m)\u001b[0m\u001b[1;33m:\u001b[0m\u001b[1;33m\u001b[0m\u001b[0m\n\u001b[1;32m-> 2381\u001b[1;33m                 \u001b[1;32mreturn\u001b[0m \u001b[0mop\u001b[0m\u001b[1;33m(\u001b[0m\u001b[0mdelegate\u001b[0m\u001b[1;33m,\u001b[0m \u001b[0mskipna\u001b[0m\u001b[1;33m=\u001b[0m\u001b[0mskipna\u001b[0m\u001b[1;33m,\u001b[0m \u001b[1;33m**\u001b[0m\u001b[0mkwds\u001b[0m\u001b[1;33m)\u001b[0m\u001b[1;33m\u001b[0m\u001b[0m\n\u001b[0m\u001b[0;32m   2382\u001b[0m \u001b[1;33m\u001b[0m\u001b[0m\n\u001b[0;32m   2383\u001b[0m         return delegate._reduce(op=op, name=name, axis=axis, skipna=skipna,\n",
      "\u001b[1;32mC:\\Users\\Bilguun\\Anaconda3\\lib\\site-packages\\pandas\\core\\nanops.py\u001b[0m in \u001b[0;36m_f\u001b[1;34m(*args, **kwargs)\u001b[0m\n\u001b[0;32m     60\u001b[0m             \u001b[1;32mtry\u001b[0m\u001b[1;33m:\u001b[0m\u001b[1;33m\u001b[0m\u001b[0m\n\u001b[0;32m     61\u001b[0m                 \u001b[1;32mwith\u001b[0m \u001b[0mnp\u001b[0m\u001b[1;33m.\u001b[0m\u001b[0merrstate\u001b[0m\u001b[1;33m(\u001b[0m\u001b[0minvalid\u001b[0m\u001b[1;33m=\u001b[0m\u001b[1;34m'ignore'\u001b[0m\u001b[1;33m)\u001b[0m\u001b[1;33m:\u001b[0m\u001b[1;33m\u001b[0m\u001b[0m\n\u001b[1;32m---> 62\u001b[1;33m                     \u001b[1;32mreturn\u001b[0m \u001b[0mf\u001b[0m\u001b[1;33m(\u001b[0m\u001b[1;33m*\u001b[0m\u001b[0margs\u001b[0m\u001b[1;33m,\u001b[0m \u001b[1;33m**\u001b[0m\u001b[0mkwargs\u001b[0m\u001b[1;33m)\u001b[0m\u001b[1;33m\u001b[0m\u001b[0m\n\u001b[0m\u001b[0;32m     63\u001b[0m             \u001b[1;32mexcept\u001b[0m \u001b[0mValueError\u001b[0m \u001b[1;32mas\u001b[0m \u001b[0me\u001b[0m\u001b[1;33m:\u001b[0m\u001b[1;33m\u001b[0m\u001b[0m\n\u001b[0;32m     64\u001b[0m                 \u001b[1;31m# we want to transform an object array\u001b[0m\u001b[1;33m\u001b[0m\u001b[1;33m\u001b[0m\u001b[0m\n",
      "\u001b[1;32mC:\\Users\\Bilguun\\Anaconda3\\lib\\site-packages\\pandas\\core\\nanops.py\u001b[0m in \u001b[0;36mf\u001b[1;34m(values, axis, skipna, **kwds)\u001b[0m\n\u001b[0;32m    110\u001b[0m                 if (_USE_BOTTLENECK and skipna and\n\u001b[0;32m    111\u001b[0m                         _bn_ok_dtype(values.dtype, bn_name)):\n\u001b[1;32m--> 112\u001b[1;33m                     \u001b[0mresult\u001b[0m \u001b[1;33m=\u001b[0m \u001b[0mbn_func\u001b[0m\u001b[1;33m(\u001b[0m\u001b[0mvalues\u001b[0m\u001b[1;33m,\u001b[0m \u001b[0maxis\u001b[0m\u001b[1;33m=\u001b[0m\u001b[0maxis\u001b[0m\u001b[1;33m,\u001b[0m \u001b[1;33m**\u001b[0m\u001b[0mkwds\u001b[0m\u001b[1;33m)\u001b[0m\u001b[1;33m\u001b[0m\u001b[0m\n\u001b[0m\u001b[0;32m    113\u001b[0m \u001b[1;33m\u001b[0m\u001b[0m\n\u001b[0;32m    114\u001b[0m                     \u001b[1;31m# prefer to treat inf/-inf as NA, but must compute the func\u001b[0m\u001b[1;33m\u001b[0m\u001b[1;33m\u001b[0m\u001b[0m\n",
      "\u001b[1;31mKeyboardInterrupt\u001b[0m: "
     ]
    }
   ],
   "source": [
    "def cons_finder(tweet):\n",
    "    return [pos2impact(tweet[2]),70*np.array(tweet[1])+14*tweet[3]+10*tweet[4].astype(int)] #np.array(tweetB[1])+pos2impact(tweetB[2])+tweetB[3]+tweetB[4].astype(int)\n",
    "p_cons=[cons_finder(tweet) for tweet in p_processed]\n",
    "n_cons=[cons_finder(tweet) for tweet in n_processed]\n",
    "print(\"Started calcuation\")\n",
    "#Parameter estimation\n",
    "def calc(p,voc,var,cons):\n",
    "    if(type(voc)!=type([])):\n",
    "        w=p*var+cons\n",
    "        return (voc.p*w).mean()>(voc.n*w).mean()\n",
    "    else:\n",
    "        return False\n",
    "def checker(ranges,p_tweet_vocs,n_tweet_vocs):\n",
    "    for p in ranges:\n",
    "        pp=sum([calc(p,voc,cons[0],cons[1]) for voc,cons in zip(p_tweet_vocs,p_cons)])\n",
    "        nn=sum([not calc(p,voc,cons[0],cons[1]) for voc,cons in zip(n_tweet_vocs,n_cons)])\n",
    "        print(\"Score:{s},Parameter:{par}\".format(s=pp+nn,par=p))\n",
    "checker(np.arange(0.001,0.01,0.001),ptweet_vocs,ntweet_vocs)"
   ]
  },
  {
   "cell_type": "markdown",
   "metadata": {},
   "source": [
    "A=70\n",
    "Score:133082,Parameter:0\n",
    "Score:133165,Parameter:10\n",
    "Score:133186,Parameter:20\n",
    "Score:133218,Parameter:30\n",
    "Score:133246,Parameter:40\n",
    "Score:133252,Parameter:50\n",
    "Score:133263,Parameter:60\n",
    "Score:133292,Parameter:70\n",
    "Score:133287,Parameter:80\n",
    "Score:133306,Parameter:90\n",
    "\n",
    "B=0.001\n",
    "Score:108009,Parameter:0.0\n",
    "Score:137148,Parameter:0.001\n",
    "Score:137030,Parameter:0.002\n",
    "Score:136865,Parameter:0.01\n",
    "Score:136797,Parameter:0.02\n",
    "Score:136786,Parameter:0.03\n",
    "Score:136605,Parameter:0.4\n",
    "Score:135372,Parameter:0.8\n",
    "Score:135354,Parameter:1.2000000000000002\n",
    "Score:135057,Parameter:1.6\n",
    "\n",
    "C=14\n",
    "Score:132708,Parameter:0\n",
    "Score:133078,Parameter:1\n",
    "Score:133549,Parameter:2\n",
    "Score:133907,Parameter:3\n",
    "Score:134234,Parameter:4\n",
    "Score:134471,Parameter:5\n",
    "Score:134673,Parameter:6\n",
    "Score:134860,Parameter:7\n",
    "Score:134943,Parameter:8\n",
    "Score:135035,Parameter:9\n",
    "Score:135177,Parameter:10\n",
    "Score:135278,Parameter:11\n",
    "Score:135354,Parameter:12\n",
    "Score:135390,Parameter:13\n",
    "Score:135422,Parameter:14\n",
    "Score:135275,Parameter:15\n",
    "\n",
    "D=10\n",
    "Score:133069,Parameter:0\n",
    "Score:133082,Parameter:2\n",
    "Score:133081,Parameter:4\n",
    "Score:133078,Parameter:6\n",
    "Score:133082,Parameter:8\n",
    "Score:133087,Parameter:10\n",
    "Score:133082,Parameter:12\n",
    "Score:133086,Parameter:14\n",
    "Score:133079,Parameter:16\n",
    "Score:133070,Parameter:18"
   ]
  },
  {
   "cell_type": "code",
   "execution_count": 165,
   "metadata": {},
   "outputs": [
    {
     "name": "stdout",
     "output_type": "stream",
     "text": [
      "Half Finished\n"
     ]
    }
   ],
   "source": [
    "a,b,c,d=70,0.001,14,10\n",
    "\n",
    "def feature_processor3(tweetB):\n",
    "    try:\n",
    "        tweet=vocabulary.loc[tweetB[0]].fillna(0)\n",
    "        weights=a*np.array(tweetB[1])+b*pos2impact(tweetB[2])+c*tweetB[3]+d*tweetB[4].astype(int)\n",
    "        return [(tweet.p*weights).mean(),(tweet.n*weights).mean()]\n",
    "    except:\n",
    "        return [-999,-999]\n",
    "\n",
    "p_features3=np.array([feature_processor3(tweet) for tweet in p_processed])\n",
    "print(\"Half Finished\")\n",
    "n_features3=np.array([feature_processor3(tweet) for tweet in n_processed])"
   ]
  },
  {
   "cell_type": "code",
   "execution_count": 167,
   "metadata": {},
   "outputs": [
    {
     "data": {
      "text/plain": [
       "[0.56152000000000002, 0.80993000000000004]"
      ]
     },
     "execution_count": 167,
     "metadata": {},
     "output_type": "execute_result"
    }
   ],
   "source": [
    "[sum(p_features3[:,0]>p_features3[:,1])/100000,sum(n_features3[:,0]<n_features3[:,1])/100000]"
   ]
  },
  {
   "cell_type": "markdown",
   "metadata": {},
   "source": [
    "So according to our weighting evaluation, the separability has increased around 2 percent"
   ]
  },
  {
   "cell_type": "code",
   "execution_count": null,
   "metadata": {
    "collapsed": true
   },
   "outputs": [],
   "source": [
    "def tweet2words(tweetB):\n",
    "    return word_scores\n",
    "def getwindow(word_scores,i,n):\n",
    "    return word_scores\n",
    "def feature_processor4(tweetB,ngram=1):\n",
    "    word_scores=tweet2words\n",
    "    total=np.array([0]*ngram)\n",
    "    for i in range(0,len(word_scores)):\n",
    "        total+=getwindow(word_scores,i,ngram)\n",
    "    return total/len(word_scores)"
   ]
  }
 ],
 "metadata": {
  "kernelspec": {
   "display_name": "Python 3",
   "language": "python",
   "name": "python3"
  },
  "language_info": {
   "codemirror_mode": {
    "name": "ipython",
    "version": 3
   },
   "file_extension": ".py",
   "mimetype": "text/x-python",
   "name": "python",
   "nbconvert_exporter": "python",
   "pygments_lexer": "ipython3",
   "version": "3.6.1"
  }
 },
 "nbformat": 4,
 "nbformat_minor": 2
}
